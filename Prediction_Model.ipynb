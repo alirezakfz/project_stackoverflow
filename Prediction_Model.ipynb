{
 "cells": [
  {
   "cell_type": "code",
   "execution_count": 1,
   "metadata": {},
   "outputs": [],
   "source": [
    "# Importing python libraries\n",
    "import numpy as np\n",
    "import pandas as pd\n",
    "import matplotlib.pyplot as plt\n",
    "import seaborn as sns\n",
    "%matplotlib inline\n",
    "\n",
    "\n",
    "#Common model helpers\n",
    "from sklearn.preprocessing import(LabelEncoder)\n",
    "from sklearn import metrics\n",
    "from sklearn.model_selection import train_test_split\n",
    "from sklearn.metrics import (classification_report, accuracy_score,\n",
    "                             r2_score, mean_squared_error,\n",
    "                             precision_score,\n",
    "                             recall_score,\n",
    "                             f1_score, \n",
    "                             confusion_matrix)\n",
    "\n",
    "# imbalance dataset handling\n",
    "from imblearn.over_sampling import SMOTE\n",
    "from imblearn.under_sampling import RandomUnderSampler\n",
    "from imblearn.pipeline import Pipeline\n",
    "import pickle\n",
    "\n",
    "# model algorithams\n",
    "from sklearn.linear_model import LinearRegression\n",
    "from sklearn.linear_model import LogisticRegression\n",
    "from sklearn.neighbors import KNeighborsClassifier\n",
    "from sklearn.tree import DecisionTreeClassifier\n",
    "from sklearn.ensemble import RandomForestClassifier\n",
    "\n",
    "\n",
    "# Avoid Warnings\n",
    "import warnings\n",
    "warnings.filterwarnings('ignore')\n",
    "\n",
    "%matplotlib inline\n",
    "\n",
    "results_add = \"./modified_results/modified_survey_results_public_\""
   ]
  },
  {
   "cell_type": "code",
   "execution_count": 2,
   "metadata": {},
   "outputs": [],
   "source": [
    "# reading dataframe containing results from all the surveys \n",
    "df_all = pd.read_csv(results_add+\"all_years.csv.gz\",  compression='gzip')"
   ]
  },
  {
   "cell_type": "code",
   "execution_count": 3,
   "metadata": {},
   "outputs": [
    {
     "data": {
      "text/html": [
       "<div>\n",
       "<style scoped>\n",
       "    .dataframe tbody tr th:only-of-type {\n",
       "        vertical-align: middle;\n",
       "    }\n",
       "\n",
       "    .dataframe tbody tr th {\n",
       "        vertical-align: top;\n",
       "    }\n",
       "\n",
       "    .dataframe thead th {\n",
       "        text-align: right;\n",
       "    }\n",
       "</style>\n",
       "<table border=\"1\" class=\"dataframe\">\n",
       "  <thead>\n",
       "    <tr style=\"text-align: right;\">\n",
       "      <th></th>\n",
       "      <th>Country</th>\n",
       "      <th>Age_Range</th>\n",
       "      <th>Gender</th>\n",
       "      <th>Salary_Range</th>\n",
       "      <th>Employment_Status</th>\n",
       "      <th>Job_Satisfaction</th>\n",
       "      <th>Formal_Education</th>\n",
       "      <th>UN_subregion</th>\n",
       "      <th>Continent</th>\n",
       "      <th>Year</th>\n",
       "      <th>Company_Size</th>\n",
       "      <th>Career_Satisfaction</th>\n",
       "    </tr>\n",
       "  </thead>\n",
       "  <tbody>\n",
       "    <tr>\n",
       "      <th>0</th>\n",
       "      <td>Croatia</td>\n",
       "      <td>25-29</td>\n",
       "      <td>Male</td>\n",
       "      <td>$20,000 - $40,000</td>\n",
       "      <td>Employed full-time</td>\n",
       "      <td>Moderately satisfied</td>\n",
       "      <td>Master's degree</td>\n",
       "      <td>Southern Europe</td>\n",
       "      <td>Europe</td>\n",
       "      <td>2015</td>\n",
       "      <td>NaN</td>\n",
       "      <td>NaN</td>\n",
       "    </tr>\n",
       "    <tr>\n",
       "      <th>1</th>\n",
       "      <td>France</td>\n",
       "      <td>20-24</td>\n",
       "      <td>Male</td>\n",
       "      <td>$20,000 - $40,000</td>\n",
       "      <td>Employed full-time</td>\n",
       "      <td>Neither satisfied nor dissatisfied</td>\n",
       "      <td>Master's degree</td>\n",
       "      <td>Western Europe</td>\n",
       "      <td>Europe</td>\n",
       "      <td>2015</td>\n",
       "      <td>NaN</td>\n",
       "      <td>NaN</td>\n",
       "    </tr>\n",
       "    <tr>\n",
       "      <th>2</th>\n",
       "      <td>India</td>\n",
       "      <td>20-24</td>\n",
       "      <td>Male</td>\n",
       "      <td>$80,000 - $100,000</td>\n",
       "      <td>Freelance / Contractor</td>\n",
       "      <td>Moderately satisfied</td>\n",
       "      <td>NaN</td>\n",
       "      <td>Southern Asia</td>\n",
       "      <td>Asia</td>\n",
       "      <td>2015</td>\n",
       "      <td>NaN</td>\n",
       "      <td>NaN</td>\n",
       "    </tr>\n",
       "    <tr>\n",
       "      <th>3</th>\n",
       "      <td>Latvia</td>\n",
       "      <td>25-29</td>\n",
       "      <td>Male</td>\n",
       "      <td>NaN</td>\n",
       "      <td>Employed full-time</td>\n",
       "      <td>Moderately satisfied</td>\n",
       "      <td>Bachelor's degree</td>\n",
       "      <td>Northern Europe</td>\n",
       "      <td>Europe</td>\n",
       "      <td>2015</td>\n",
       "      <td>NaN</td>\n",
       "      <td>NaN</td>\n",
       "    </tr>\n",
       "    <tr>\n",
       "      <th>4</th>\n",
       "      <td>Norway</td>\n",
       "      <td>30-34</td>\n",
       "      <td>Male</td>\n",
       "      <td>$60,000 - $80,000</td>\n",
       "      <td>Employed full-time</td>\n",
       "      <td>Extremely satisfied</td>\n",
       "      <td>Bachelor's degree</td>\n",
       "      <td>Northern Europe</td>\n",
       "      <td>Europe</td>\n",
       "      <td>2015</td>\n",
       "      <td>NaN</td>\n",
       "      <td>NaN</td>\n",
       "    </tr>\n",
       "  </tbody>\n",
       "</table>\n",
       "</div>"
      ],
      "text/plain": [
       "   Country Age_Range Gender        Salary_Range       Employment_Status  \\\n",
       "0  Croatia     25-29   Male   $20,000 - $40,000      Employed full-time   \n",
       "1   France     20-24   Male   $20,000 - $40,000      Employed full-time   \n",
       "2    India     20-24   Male  $80,000 - $100,000  Freelance / Contractor   \n",
       "3   Latvia     25-29   Male                 NaN      Employed full-time   \n",
       "4   Norway     30-34   Male   $60,000 - $80,000      Employed full-time   \n",
       "\n",
       "                     Job_Satisfaction   Formal_Education     UN_subregion  \\\n",
       "0                Moderately satisfied    Master's degree  Southern Europe   \n",
       "1  Neither satisfied nor dissatisfied    Master's degree   Western Europe   \n",
       "2                Moderately satisfied                NaN    Southern Asia   \n",
       "3                Moderately satisfied  Bachelor's degree  Northern Europe   \n",
       "4                 Extremely satisfied  Bachelor's degree  Northern Europe   \n",
       "\n",
       "  Continent  Year Company_Size Career_Satisfaction  \n",
       "0    Europe  2015          NaN                 NaN  \n",
       "1    Europe  2015          NaN                 NaN  \n",
       "2      Asia  2015          NaN                 NaN  \n",
       "3    Europe  2015          NaN                 NaN  \n",
       "4    Europe  2015          NaN                 NaN  "
      ]
     },
     "execution_count": 3,
     "metadata": {},
     "output_type": "execute_result"
    }
   ],
   "source": [
    "df_all.head()"
   ]
  },
  {
   "cell_type": "markdown",
   "metadata": {},
   "source": [
    "## Categorical data relation"
   ]
  },
  {
   "cell_type": "code",
   "execution_count": 4,
   "metadata": {},
   "outputs": [
    {
     "data": {
      "text/html": [
       "<div>\n",
       "<style scoped>\n",
       "    .dataframe tbody tr th:only-of-type {\n",
       "        vertical-align: middle;\n",
       "    }\n",
       "\n",
       "    .dataframe tbody tr th {\n",
       "        vertical-align: top;\n",
       "    }\n",
       "\n",
       "    .dataframe thead th {\n",
       "        text-align: right;\n",
       "    }\n",
       "</style>\n",
       "<table border=\"1\" class=\"dataframe\">\n",
       "  <thead>\n",
       "    <tr style=\"text-align: right;\">\n",
       "      <th></th>\n",
       "      <th>Gender</th>\n",
       "      <th>Age_Range</th>\n",
       "      <th>Salary_Range</th>\n",
       "      <th>Employment_Status</th>\n",
       "      <th>Formal_Education</th>\n",
       "      <th>Job_Satisfaction</th>\n",
       "    </tr>\n",
       "  </thead>\n",
       "  <tbody>\n",
       "    <tr>\n",
       "      <th>0</th>\n",
       "      <td>1</td>\n",
       "      <td>3</td>\n",
       "      <td>15</td>\n",
       "      <td>0</td>\n",
       "      <td>3</td>\n",
       "      <td>3</td>\n",
       "    </tr>\n",
       "    <tr>\n",
       "      <th>1</th>\n",
       "      <td>1</td>\n",
       "      <td>1</td>\n",
       "      <td>15</td>\n",
       "      <td>0</td>\n",
       "      <td>3</td>\n",
       "      <td>4</td>\n",
       "    </tr>\n",
       "    <tr>\n",
       "      <th>4</th>\n",
       "      <td>1</td>\n",
       "      <td>4</td>\n",
       "      <td>21</td>\n",
       "      <td>0</td>\n",
       "      <td>1</td>\n",
       "      <td>1</td>\n",
       "    </tr>\n",
       "    <tr>\n",
       "      <th>7</th>\n",
       "      <td>1</td>\n",
       "      <td>3</td>\n",
       "      <td>21</td>\n",
       "      <td>0</td>\n",
       "      <td>3</td>\n",
       "      <td>3</td>\n",
       "    </tr>\n",
       "    <tr>\n",
       "      <th>8</th>\n",
       "      <td>1</td>\n",
       "      <td>4</td>\n",
       "      <td>31</td>\n",
       "      <td>0</td>\n",
       "      <td>1</td>\n",
       "      <td>3</td>\n",
       "    </tr>\n",
       "  </tbody>\n",
       "</table>\n",
       "</div>"
      ],
      "text/plain": [
       "   Gender  Age_Range  Salary_Range  Employment_Status  Formal_Education  \\\n",
       "0       1          3            15                  0                 3   \n",
       "1       1          1            15                  0                 3   \n",
       "4       1          4            21                  0                 1   \n",
       "7       1          3            21                  0                 3   \n",
       "8       1          4            31                  0                 1   \n",
       "\n",
       "   Job_Satisfaction  \n",
       "0                 3  \n",
       "1                 4  \n",
       "4                 1  \n",
       "7                 3  \n",
       "8                 3  "
      ]
     },
     "execution_count": 4,
     "metadata": {},
     "output_type": "execute_result"
    }
   ],
   "source": [
    "#converting categorical columns into numericals\n",
    "df_temp = df_all[['Gender','Age_Range','Salary_Range','Employment_Status','Formal_Education','Job_Satisfaction']]\n",
    "df_temp = df_temp.dropna()\n",
    "labelencoder=LabelEncoder()\n",
    "df_temp['Gender']=labelencoder.fit_transform(df_temp['Gender'])\n",
    "df_temp['Age_Range']=labelencoder.fit_transform(df_temp['Age_Range'])\n",
    "df_temp['Salary_Range']=labelencoder.fit_transform(df_temp['Salary_Range'])\n",
    "df_temp['Formal_Education']=labelencoder.fit_transform(df_temp['Formal_Education'])\n",
    "df_temp['Employment_Status']=labelencoder.fit_transform(df_temp['Employment_Status'])\n",
    "df_temp['Job_Satisfaction']=labelencoder.fit_transform(df_temp['Job_Satisfaction'])\n",
    "\n",
    "# Encode variables with more than 2 Classes\n",
    "df_temp = pd.get_dummies(df_temp, columns= [i for i in df_temp.columns if df_temp[i].dtypes=='object'],drop_first=True)\n",
    "\n",
    "df_temp.head()"
   ]
  },
  {
   "cell_type": "markdown",
   "metadata": {},
   "source": [
    "Exploratory analysis and visualisation of relation by heatmap"
   ]
  },
  {
   "cell_type": "code",
   "execution_count": 5,
   "metadata": {},
   "outputs": [
    {
     "data": {
      "image/png": "[encoded data removed]",
      "text/plain": [
       "<Figure size 1080x1080 with 2 Axes>"
      ]
     },
     "metadata": {
      "needs_background": "light"
     },
     "output_type": "display_data"
    }
   ],
   "source": [
    "#correlation between columns\n",
    "plt.figure(figsize=(15,15))\n",
    "sns.heatmap(df_temp.corr(),annot=True)\n",
    "plt.savefig('./figures/JS_heatmap.png')"
   ]
  },
  {
   "cell_type": "code",
   "execution_count": null,
   "metadata": {},
   "outputs": [],
   "source": []
  },
  {
   "cell_type": "markdown",
   "metadata": {},
   "source": [
    "### Train and fit linear model using over and \n",
    "Model and data saved after runing these two parts. For avoiding time required for imbalance sampling it's easier to load and use saved data"
   ]
  },
  {
   "cell_type": "code",
   "execution_count": 6,
   "metadata": {},
   "outputs": [],
   "source": [
    "def create_dummy_df(df, cat_cols, dummy_na):\n",
    "    '''\n",
    "    INPUT:\n",
    "    df - pandas dataframe with categorical variables you want to dummy\n",
    "    cat_cols - list of strings that are associated with names of the categorical columns\n",
    "    dummy_na - Bool holding whether you want to dummy NA vals of categorical columns or not\n",
    "    \n",
    "    OUTPUT:\n",
    "    df - a new dataframe that has the following characteristics:\n",
    "            1. contains all columns that were not specified as categorical\n",
    "            2. removes all the original columns in cat_cols\n",
    "            3. dummy columns for each of the categorical columns in cat_cols\n",
    "            4. if dummy_na is True - it also contains dummy columns for the NaN values\n",
    "            5. Use a prefix of the column name with an underscore (_) for separating \n",
    "    '''\n",
    "    \n",
    "    for col in cat_cols:\n",
    "        #df = pd.concat([df, pd.get_dummies(df.drop(col,axis=1), prefix=col, prefix_sep='_', drop_first=True, dummy_na=dummy_na)],axis=1)\n",
    "        df = pd.concat([df.drop(col, axis=1), pd.get_dummies(df[col], prefix=col, prefix_sep='_', drop_first=True, dummy_na=dummy_na)], axis=1)\n",
    "\n",
    "    return df"
   ]
  },
  {
   "cell_type": "code",
   "execution_count": 8,
   "metadata": {},
   "outputs": [
    {
     "name": "stdout",
     "output_type": "stream",
     "text": [
      "Index(['Country', 'Age_Range', 'Gender', 'Salary_Range', 'Employment_Status',\n",
      "       'Formal_Education', 'UN_subregion', 'Continent'],\n",
      "      dtype='object')\n"
     ]
    }
   ],
   "source": [
    "def clean_fit_linear_mod(df, response_col, cat_cols, dummy_na, test_size=.3, rand_state=42):\n",
    "    '''\n",
    "    INPUT:\n",
    "    df - a dataframe holding all the variables of interest\n",
    "    response_col - a string holding the name of the column \n",
    "    cat_cols - list of strings that are associated with names of the categorical columns\n",
    "    dummy_na - Bool holding whether you want to dummy NA vals of categorical columns or not\n",
    "    test_size - a float between [0,1] about what proportion of data should be in the test dataset\n",
    "    rand_state - an int that is provided as the random state for splitting the data into training and test \n",
    "    \n",
    "    OUTPUT:\n",
    "    test_score - float - r2 score on the test data\n",
    "    train_score - float - r2 score on the test data\n",
    "    lm_model - model object from sklearn\n",
    "    X_train, X_test, y_train, y_test - output from sklearn train test split used for optimal model\n",
    "    \n",
    "    Your function should:\n",
    "    1. Drop the rows with missing response values\n",
    "    2. Drop columns with NaN for all the values\n",
    "    3. Use create_dummy_df to dummy categorical columns\n",
    "    4. Fill the mean of the column for any missing values \n",
    "    5. Split your data into an X matrix and a response vector y\n",
    "    6. Create training and test sets of data\n",
    "    7. Instantiate a LinearRegression model with normalized data\n",
    "    8. Fit your model to the training data\n",
    "    9. Predict the response for the training data and the test data\n",
    "    10. Obtain an rsquared value for both the training and test data\n",
    "    '''\n",
    "    # 1. Drop the rows with missing response values\n",
    "    #df = df.dropna(subset=['Salary'], axis=0)\n",
    "    df  = df.dropna(subset=[response_col], axis=0)\n",
    "    \n",
    "    \n",
    "    # 2. Drop columns with NaN for all the values\n",
    "    #drop_cols = df.columns[df.isnull().all()==True]\n",
    "    #df = df.drop(columns = drop_cols)\n",
    "    df = df.dropna(how ='all' , axis=1)\n",
    "    \n",
    "    \n",
    "    cat_df = df.select_dtypes(include=['object'])\n",
    "    cat_cols = cat_df.columns\n",
    "    # 3. Use create_dummy_df to dummy categorical columns\n",
    "    #cat_df = df.select_dtypes(include=['object'])\n",
    "    #cat_cols_lst = cat_df.columns\n",
    "    print(cat_cols)\n",
    "    df = create_dummy_df(df, cat_cols, dummy_na)\n",
    "   \n",
    "    \n",
    "    # 4. Fill the mean of the column for any missing values\n",
    "    fill_mean = lambda col: col.fillna(col.mean())\n",
    "    df = df.apply(fill_mean, axis=0)\n",
    "    \n",
    "    # 5. Split your data into an X matrix and a response vector y\n",
    "    try:\n",
    "        y = df[response_col]\n",
    "    except:\n",
    "        print('Error occured')\n",
    "    X = df.drop(response_col, axis=1)\n",
    "    \n",
    "#     #Scaling X \n",
    "#     scaler = MinMaxScaler()\n",
    "#     X_scale=scaler.fit_transform(X_oversampled)\n",
    "    \n",
    "#     ## Balancing Dataset\n",
    "#     over = SMOTE(sampling_strategy=0.1)\n",
    "#     under = RandomUnderSampler(sampling_strategy=0.5)\n",
    "#     steps = [('o', over), ('u', under)]\n",
    "#     # define pipeline\n",
    "#     pipeline = Pipeline(steps=steps)\n",
    "#     X_oversampled, y_oversampled = pipeline.fit_resample(X, y)\n",
    "    \n",
    "    # transform the dataset\n",
    "    sm = SMOTE()\n",
    "    X_oversampled, y_oversampled = sm.fit_resample(X, y)\n",
    "    \n",
    "    \n",
    "    # 6. Create training and test sets of data\n",
    "    X_train, X_test, y_train, y_test = train_test_split(X_oversampled, y_oversampled, test_size = .30, random_state=42)\n",
    "    \n",
    "    # 7. Instantiate a LinearRegression model with normalized data\n",
    "    lm_model = LinearRegression(normalize=True) # Instantiate\n",
    "    \n",
    "    # 8. Fit your model to the training data\n",
    "    lm_model.fit(X_train, y_train) #Fit\n",
    "    \n",
    "    # 9. Predict the response for the training data and the test data\n",
    "    y_test_preds = lm_model.predict(X_test)\n",
    "    y_train_preds = lm_model.predict(X_train)\n",
    "    \n",
    "    # 10. Score using your model\n",
    "    test_score = r2_score(y_test, y_test_preds)\n",
    "    train_score = r2_score(y_train, y_train_preds)\n",
    "    \n",
    "    \n",
    "\n",
    "    return test_score, train_score, lm_model, X_train, X_test, y_train, y_test, X, y\n",
    "\n",
    "\n",
    "df_temp = df_all[['Country', 'Age_Range', 'Gender', 'Salary_Range', \n",
    "                  'Employment_Status', 'Job_Satisfaction', 'Formal_Education', \n",
    "                  'UN_subregion', 'Continent', 'Year']].copy()\n",
    "\n",
    "## Make job satisfaction into numeric score\n",
    "dic_sat ={'Extremely dissatisfied':0.0, 'Very dissatisfied':1.0,'Neither satisfied nor dissatisfied':4.0,\n",
    "          'Moderately dissatisfied':3.0,'Slightly dissatisfied':2.0,\n",
    "          'Slightly satisfied':5.0 ,'Moderately satisfied':6.0 ,\n",
    "          'Very satisfied':7.0 ,'Extremely satisfied':8.0 }\n",
    "for key in dic_sat:\n",
    "    df_temp['Job_Satisfaction'].replace(key, dic_sat[key], inplace=True)\n",
    "\n",
    "index = df_temp[df_temp['Job_Satisfaction']=='Other'].index\n",
    "df_temp.drop(index, inplace=True)\n",
    "df_temp['Job_Satisfaction'] = pd.to_numeric(df_temp['Job_Satisfaction'])\n",
    "    \n",
    "cat_df = df_temp.select_dtypes(include=['object'])\n",
    "cat_cols_lst = cat_df.columns\n",
    "\n",
    "#Test your function with the above dataset\n",
    "test_score, train_score, lm_model, X_train, X_test, y_train, y_test, X, y = clean_fit_linear_mod(df_temp, \"Job_Satisfaction\", cat_cols_lst, dummy_na=False)"
   ]
  },
  {
   "cell_type": "code",
   "execution_count": 9,
   "metadata": {},
   "outputs": [
    {
     "name": "stdout",
     "output_type": "stream",
     "text": [
      "Test score: -1.8258618314112481e+25\n",
      "Train Score: 0.183033559393886\n"
     ]
    }
   ],
   "source": [
    "print('Test score:',test_score )\n",
    "print('Train Score:',train_score)"
   ]
  },
  {
   "cell_type": "code",
   "execution_count": 10,
   "metadata": {},
   "outputs": [],
   "source": [
    "## Save model and trained data to load later\n",
    "## SMOT Imbalance oversampling method is time consuming\n",
    "\n",
    "# save the model to disk\n",
    "filename = './models/finalized_linear_model.sav'\n",
    "pickle.dump(lm_model, open(filename, 'wb'))\n",
    "\n",
    "X_train.to_csv('./models/X.csv.gz', index=False, header=True, compression='gzip')\n",
    "X_train.to_csv('./models/X_train.csv.gz', index=False, header=True, compression='gzip')\n",
    "X_test.to_csv('./models/X_test.csv.gz', index=False, header=True, compression='gzip')\n",
    "\n",
    "y_train.to_csv('./models/y.csv.gz', index=False, header=True, compression='gzip')\n",
    "y_train.to_csv('./models/y_train.csv.gz', index=False, header=True, compression='gzip')\n",
    "y_test.to_csv('./models/y_test.csv.gz', index=False, header=True, compression='gzip')"
   ]
  },
  {
   "cell_type": "markdown",
   "metadata": {},
   "source": [
    "### Logistic Regression"
   ]
  },
  {
   "cell_type": "code",
   "execution_count": 11,
   "metadata": {},
   "outputs": [],
   "source": [
    "#Logistic Regression\n",
    "lr=LogisticRegression(random_state=42)\n",
    "lr.fit(X_train,y_train)\n",
    "y_pred_lr=lr.predict(X_test)"
   ]
  },
  {
   "cell_type": "code",
   "execution_count": 12,
   "metadata": {},
   "outputs": [
    {
     "data": {
      "text/plain": [
       "0.2494254229954427"
      ]
     },
     "execution_count": 12,
     "metadata": {},
     "output_type": "execute_result"
    }
   ],
   "source": [
    "accuracy_score(y_test,y_pred_lr)"
   ]
  },
  {
   "cell_type": "code",
   "execution_count": 13,
   "metadata": {},
   "outputs": [
    {
     "name": "stdout",
     "output_type": "stream",
     "text": [
      "[[12530    98  2581    23  2538    51  4354    63  1575]\n",
      " [  854  5993  3476  3159  3885  4098  1754  3752  2305]\n",
      " [  356   354   411   334   273   282   288   277   188]\n",
      " [ 1814  5307  5596  9703  4684  5811  4985  4780  5485]\n",
      " [  566   896   730   469   878   680   592   784   675]\n",
      " [  186  1449  1615  1097  1452  2214  1076  1698   930]\n",
      " [ 1611    18   476    10   516    13   960     8   654]\n",
      " [  833  4281  3444  2472  2880  4869  2616  6647  2939]\n",
      " [  925  1560  1486  2611  2507  1608  3195  1763  5051]]\n"
     ]
    }
   ],
   "source": [
    "print(confusion_matrix(y_pred_lr, y_test))"
   ]
  },
  {
   "cell_type": "markdown",
   "metadata": {},
   "source": [
    "### Decision-tree"
   ]
  },
  {
   "cell_type": "code",
   "execution_count": 14,
   "metadata": {},
   "outputs": [
    {
     "name": "stdout",
     "output_type": "stream",
     "text": [
      "[[14990     0  2291   273  2179   116  3999     0   318]\n",
      " [    0 14175  4337     0  3916  4730     0  5940     0]\n",
      " [  403   641  3253   316  1178  1537   952  1298   643]\n",
      " [ 2113     0  2521 15589  3140  2527  5045     0  5963]\n",
      " [  436   489   934   277  2697  1093  1127   918   818]\n",
      " [   62   745  1212   116   983  2654   548  1924   271]\n",
      " [  894     0   824   562   991   762  3457     0  1946]\n",
      " [    0  3906  3386     0  2299  4990     0  9692     0]\n",
      " [  777     0  1057  2745  2230  1217  4692     0  9843]]\n",
      "              precision    recall  f1-score   support\n",
      "\n",
      "         0.0       0.76      0.62      0.68     24166\n",
      "         1.0       0.71      0.43      0.53     33098\n",
      "         2.0       0.16      0.32      0.22     10221\n",
      "         3.0       0.78      0.42      0.55     36898\n",
      "         4.0       0.14      0.31      0.19      8789\n",
      "         5.0       0.14      0.31      0.19      8515\n",
      "         6.0       0.17      0.37      0.24      9436\n",
      "         7.0       0.49      0.40      0.44     24273\n",
      "         8.0       0.50      0.44      0.46     22561\n",
      "\n",
      "    accuracy                           0.43    177957\n",
      "   macro avg       0.43      0.40      0.39    177957\n",
      "weighted avg       0.56      0.43      0.47    177957\n",
      "\n"
     ]
    }
   ],
   "source": [
    "#Decision Tree\n",
    "dt = DecisionTreeClassifier()\n",
    "dt.fit(X_train, y_train)\n",
    "dt_pred = dt.predict(X_test)\n",
    "print(confusion_matrix(dt_pred, y_test))\n",
    "print(classification_report(dt_pred, y_test))"
   ]
  },
  {
   "cell_type": "markdown",
   "metadata": {},
   "source": [
    "###  k-nearest neighbors algorithm "
   ]
  },
  {
   "cell_type": "code",
   "execution_count": 15,
   "metadata": {},
   "outputs": [
    {
     "name": "stdout",
     "output_type": "stream",
     "text": [
      "[[14400     1  2377   849  2282   255  4418     1   784]\n",
      " [    1 12270  4084     1  3630  4753     1  6091     0]\n",
      " [  853  1622  3977  1380  1810  2471  1478  2661  1222]\n",
      " [ 1459     3  1723 11477  2255  1880  4020     2  4676]\n",
      " [  883  1479  1556  1103  3467  1819  1667  1679  1597]\n",
      " [  157  1866  1862   649  1459  3168   745  3152   616]\n",
      " [ 1271     0  1022  1921  1340   944  3545     0  3009]\n",
      " [    0  2715  2227     0  1646  3354     0  6186     0]\n",
      " [  651     0   987  2498  1724   982  3946     0  7898]]\n",
      "              precision    recall  f1-score   support\n",
      "\n",
      "         0.0       0.73      0.57      0.64     25367\n",
      "         1.0       0.61      0.40      0.48     30831\n",
      "         2.0       0.20      0.23      0.21     17474\n",
      "         3.0       0.58      0.42      0.48     27495\n",
      "         4.0       0.18      0.23      0.20     15250\n",
      "         5.0       0.16      0.23      0.19     13674\n",
      "         6.0       0.18      0.27      0.22     13052\n",
      "         7.0       0.31      0.38      0.34     16128\n",
      "         8.0       0.40      0.42      0.41     18686\n",
      "\n",
      "    accuracy                           0.37    177957\n",
      "   macro avg       0.37      0.35      0.35    177957\n",
      "weighted avg       0.43      0.37      0.39    177957\n",
      "\n"
     ]
    }
   ],
   "source": [
    "#K-NN\n",
    "knn = KNeighborsClassifier()\n",
    "knn.fit(X_train, y_train)\n",
    "knn_pred = knn.predict(X_test)\n",
    "print(confusion_matrix(knn_pred, y_test))\n",
    "print(classification_report(knn_pred, y_test))"
   ]
  },
  {
   "cell_type": "markdown",
   "metadata": {},
   "source": [
    "### Random Forest"
   ]
  },
  {
   "cell_type": "code",
   "execution_count": 16,
   "metadata": {},
   "outputs": [
    {
     "name": "stdout",
     "output_type": "stream",
     "text": [
      "[[15049     0  2248   215  2166    78  3968     0   229]\n",
      " [    0 13920  4173     0  3795  4555     0  5679     0]\n",
      " [  316   659  2916   218   944  1263   715  1065   422]\n",
      " [ 2142     0  2537 15596  3102  2514  4976     0  5910]\n",
      " [  423   479   872   263  2591   983   930   762   665]\n",
      " [   52   799  1351   110  1035  2706   476  1839   229]\n",
      " [  861     0   859   624  1055   788  3531     0  1784]\n",
      " [    0  4099  3635     0  2506  5404     0 10427     1]\n",
      " [  832     0  1224  2852  2419  1335  5224     0 10562]]\n",
      "              precision    recall  f1-score   support\n",
      "\n",
      "         0.0       0.76      0.63      0.69     23953\n",
      "         1.0       0.70      0.43      0.53     32122\n",
      "         2.0       0.15      0.34      0.21      8518\n",
      "         3.0       0.78      0.42      0.55     36777\n",
      "         4.0       0.13      0.33      0.19      7968\n",
      "         5.0       0.14      0.31      0.19      8597\n",
      "         6.0       0.18      0.37      0.24      9502\n",
      "         7.0       0.53      0.40      0.45     26072\n",
      "         8.0       0.53      0.43      0.48     24448\n",
      "\n",
      "    accuracy                           0.43    177957\n",
      "   macro avg       0.43      0.41      0.39    177957\n",
      "weighted avg       0.57      0.43      0.48    177957\n",
      "\n"
     ]
    }
   ],
   "source": [
    "#Random forest\n",
    "rft = RandomForestClassifier(random_state=42)\n",
    "rft.fit(X_train, y_train)\n",
    "rft_pred = rft.predict(X_test)\n",
    "print(confusion_matrix(rft_pred, y_test))\n",
    "print(classification_report(rft_pred, y_test))"
   ]
  },
  {
   "cell_type": "code",
   "execution_count": null,
   "metadata": {},
   "outputs": [],
   "source": []
  }
 ],
 "metadata": {
  "kernelspec": {
   "display_name": "Python 3",
   "language": "python",
   "name": "python3"
  },
  "language_info": {
   "codemirror_mode": {
    "name": "ipython",
    "version": 3
   },
   "file_extension": ".py",
   "mimetype": "text/x-python",
   "name": "python",
   "nbconvert_exporter": "python",
   "pygments_lexer": "ipython3",
   "version": "3.8.5"
  }
 },
 "nbformat": 4,
 "nbformat_minor": 4
}
