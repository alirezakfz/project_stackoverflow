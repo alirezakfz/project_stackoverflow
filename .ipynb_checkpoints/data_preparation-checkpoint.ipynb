{
 "cells": [
  {
   "cell_type": "markdown",
   "metadata": {},
   "source": [
    "# Data Preparation of Stackoverflow surveys for job satisfaction\n",
    "\n",
    "This notebook looks at stackoverflow surveys duriring five consequent years from 2015-2020 with the aim to realize general job satisfaction of developers according to the surveys [here](https://insights.stackoverflow.com/survey)"
   ]
  },
  {
   "cell_type": "markdown",
   "metadata": {},
   "source": [
    "#### Run the cells below to get started."
   ]
  },
  {
   "cell_type": "code",
   "execution_count": 611,
   "metadata": {},
   "outputs": [],
   "source": [
    "# Importing python libraries\n",
    "import numpy as np\n",
    "import pandas as pd\n",
    "import matplotlib.pyplot as plt\n",
    "import seaborn as sns\n",
    "%matplotlib inline\n",
    "\n",
    "survey = \"./surveys_results/survey_results_public_\"\n",
    "mod_df = \"./modified_results/modified_survey_results_public_\""
   ]
  },
  {
   "cell_type": "markdown",
   "metadata": {},
   "source": [
    "There are 5 surveys results stored as CSV format in \"surveys_results\" folder. Each year there are differnces in questionier asked from IT persons/Develpoers to answer them. But there are some questions repeated in each year. Our focus is to use fields in the results that belong to such questions like country of residence or salary.\n",
    "First we look to country of residence from the 2015 and 2016."
   ]
  },
  {
   "cell_type": "code",
   "execution_count": 612,
   "metadata": {},
   "outputs": [],
   "source": [
    "# Reading country results from 2016 and 2015\n",
    "df_2015 = pd.read_csv(survey+\"2015.csv.gz\", usecols=['Country'], skiprows=1, compression='gzip') #2015 country results\n",
    "\n",
    "df_2018 = pd.read_csv(survey+\"2018.csv.gz\", usecols=['Country'], compression='gzip') #2016 country results"
   ]
  },
  {
   "cell_type": "markdown",
   "metadata": {},
   "source": [
    "Lets have a look to number of unique countries in these two datasets."
   ]
  },
  {
   "cell_type": "code",
   "execution_count": 613,
   "metadata": {},
   "outputs": [
    {
     "name": "stdout",
     "output_type": "stream",
     "text": [
      "Lenght of 2015: 157\n",
      "Lenght of 2018: 181\n"
     ]
    }
   ],
   "source": [
    "# 2015 unique countries\n",
    "print(\"Lenght of 2015:\", len(df_2015.Country.unique()))\n",
    "print(\"Lenght of 2018:\", len(df_2018.Country.unique()))"
   ]
  },
  {
   "cell_type": "markdown",
   "metadata": {},
   "source": [
    "There are different number of ccountries in each dataframe. Also there are some countries which have different naming in each one of these surveys. For example 'Viet Nam' in 2018 and 'Vietnam' in 2015 or 'Syria' in 2015 and 'Syrian Arab Republic' in 2018. Also there is 'un_subregion' column in 2016 results which not exist in other results. For this reason we have to modify columns values to have same value names and later we can categorize them like having **continent** or **subregion**."
   ]
  },
  {
   "cell_type": "code",
   "execution_count": 614,
   "metadata": {},
   "outputs": [
    {
     "name": "stdout",
     "output_type": "stream",
     "text": [
      "Iran, Islamic Republic of... , Hong Kong , Other Country (Not Listed Above) , Micronesia , Yemen , Fiji , Burundi , Lesotho , Marshall Islands , Malawi , Libya , Guinea , Côte d'Ivoire , Central African Rep , Monaco , Gambia , Palau , Grenada , Belize , Suriname , East Timor , Dominica , Saint Lucia , Niger , Guyana , Nauru , Mali , Liberia , Cape Verde , Eritrea , Guinea-Bissau , "
     ]
    }
   ],
   "source": [
    "# example of dis-similarity between country names in data sets.\n",
    "unique_2018 =[]\n",
    "for x in df_2018.Country.unique():\n",
    "    unique_2018.append(x)\n",
    "\n",
    "unique_2015 =[]\n",
    "for x in df_2015.Country.unique():\n",
    "    unique_2015.append(x)\n",
    "    \n",
    "for x in unique_2018:\n",
    "    if x not in unique_2015:\n",
    "        print(x,', ',end=\"\")\n"
   ]
  },
  {
   "cell_type": "markdown",
   "metadata": {},
   "source": [
    "# Part I: Removing dissimilarity among datasets\n",
    " \n",
    " Removing differences in country names. Adding 'un-subregion' and 'Continent' to data sets by creating new datasets."
   ]
  },
  {
   "cell_type": "markdown",
   "metadata": {},
   "source": [
    "### Results from 2015"
   ]
  },
  {
   "cell_type": "code",
   "execution_count": 615,
   "metadata": {},
   "outputs": [],
   "source": [
    "# columns to be used for reding 2015 results \n",
    "col_2015=['Country','Age','Gender',\n",
    "          'Training & Education: BS in CS',\n",
    "          'Training & Education: No formal training',\n",
    "          'Training & Education: Some college, but no CS degree',\n",
    "          'Training & Education: Masters in CS',\n",
    "          'Training & Education: PhD in CS','Compensation',\n",
    "          'Employment Status','Job Satisfaction']\n",
    "\n",
    "# Reading selected columns\n",
    "df_2015 = pd.read_csv(\"./surveys_results/survey_results_public_\"+\"2015.csv.gz\", \n",
    "                      usecols=col_2015, skiprows=1, compression='gzip')"
   ]
  },
  {
   "cell_type": "markdown",
   "metadata": {},
   "source": [
    "To find differnces in country names we check all the data sets with one unique list loaded from  **'country_continent.csv'** file. So we can add continent and subregion to data frame which miss it."
   ]
  },
  {
   "cell_type": "code",
   "execution_count": 616,
   "metadata": {},
   "outputs": [],
   "source": [
    "# loading list of countries and their properties\n",
    "df_country = pd.read_csv('./country_continent.csv', encoding = \"ISO-8859-1\")\n",
    "\n",
    "uniques =[]\n",
    "for x in df_country.country.unique():\n",
    "    uniques.append(x)\n"
   ]
  },
  {
   "cell_type": "code",
   "execution_count": 617,
   "metadata": {},
   "outputs": [],
   "source": [
    "# checking which countries have different name from this list and modify them for 2015 results. \n",
    "# It seems in 2015 similarity is ok\n",
    "unique_country =[]\n",
    "for x in df_2015.Country.unique():\n",
    "    unique_country.append(x)\n",
    "\n",
    "for x in unique_country:\n",
    "    if x not in uniques:\n",
    "        print(x,'\",\"',end=\"\")\n"
   ]
  },
  {
   "cell_type": "code",
   "execution_count": 618,
   "metadata": {},
   "outputs": [
    {
     "data": {
      "text/plain": [
       "array(['Male', 'Prefer not to disclose', 'Female', nan, 'Other'],\n",
       "      dtype=object)"
      ]
     },
     "execution_count": 618,
     "metadata": {},
     "output_type": "execute_result"
    }
   ],
   "source": [
    "df_2015.Gender.unique()"
   ]
  },
  {
   "cell_type": "code",
   "execution_count": null,
   "metadata": {},
   "outputs": [],
   "source": []
  },
  {
   "cell_type": "markdown",
   "metadata": {},
   "source": [
    "#### Education\n",
    "In 2015 survey results university education level are separated in different cloumns. Lets create one column as **'FormalEducation'**."
   ]
  },
  {
   "cell_type": "code",
   "execution_count": 619,
   "metadata": {},
   "outputs": [],
   "source": [
    "#not_null_col = df_2015\n",
    "edu_col = ['Training & Education: BS in CS','Training & Education: No formal training',\n",
    "           'Training & Education: Some college, but no CS degree',\n",
    "           'Training & Education: Masters in CS',\n",
    "           'Training & Education: PhD in CS']\n",
    "\n",
    "# This dictionary used to make consistency between all survey results\n",
    "edu_value={'Training & Education: BS in CS':\"Bachelor degree (BA, BS, B.Eng., etc.)\",\n",
    "          'Training & Education: No formal training':\"I never completed any formal education\",\n",
    "          'Training & Education: Some college, but no CS degree':\"Some college/university study without earning a degree\",\n",
    "          'Training & Education: Masters in CS':\"Master degree (MA, MS, M.Eng., MBA, etc.)\",\n",
    "          'Training & Education: PhD in CS':\"Other doctoral degree (Ph.D, Ed.D., etc.)\"}\n",
    "\n",
    "not_null_col = [] # store not null columns\n",
    "\n",
    "# creating new column as 'Formal_Education' education and updating it's value\n",
    "for col in edu_col:\n",
    "    not_null_col = df_2015[col][df_2015[col].notnull()==True].index\n",
    "    df_2015.loc[not_null_col,'Formal_Education']=edu_value[col]\n"
   ]
  },
  {
   "cell_type": "code",
   "execution_count": 620,
   "metadata": {},
   "outputs": [
    {
     "data": {
      "text/plain": [
       "array(['Master degree (MA, MS, M.Eng., MBA, etc.)', nan,\n",
       "       'Bachelor degree (BA, BS, B.Eng., etc.)',\n",
       "       'I never completed any formal education',\n",
       "       'Some college/university study without earning a degree',\n",
       "       'Other doctoral degree (Ph.D, Ed.D., etc.)'], dtype=object)"
      ]
     },
     "execution_count": 620,
     "metadata": {},
     "output_type": "execute_result"
    }
   ],
   "source": [
    "# lets check FormalEducation column\n",
    "df_2015['Formal_Education'].unique()"
   ]
  },
  {
   "cell_type": "markdown",
   "metadata": {},
   "source": [
    "Now we can drop the other 5 columns by having new **'FormalEducation'** column"
   ]
  },
  {
   "cell_type": "code",
   "execution_count": 621,
   "metadata": {},
   "outputs": [],
   "source": [
    "# dropping education columns\n",
    "df_2015.drop(columns=edu_col, inplace=True)"
   ]
  },
  {
   "cell_type": "code",
   "execution_count": 622,
   "metadata": {},
   "outputs": [],
   "source": [
    "# Correcting N/A value of country to nan\n",
    "#df_2015.loc[df_2015['Country']=='N/A', 'Country']=np.nan"
   ]
  },
  {
   "cell_type": "code",
   "execution_count": 623,
   "metadata": {},
   "outputs": [
    {
     "data": {
      "text/plain": [
       "807"
      ]
     },
     "execution_count": 623,
     "metadata": {},
     "output_type": "execute_result"
    }
   ],
   "source": [
    "np.sum(df_2015['Country'].isnull()==True)"
   ]
  },
  {
   "cell_type": "markdown",
   "metadata": {},
   "source": [
    "#### Continent and subregion\n",
    "Adding **'un_subregion'** and **'Continent'** columns for further comparison."
   ]
  },
  {
   "cell_type": "code",
   "execution_count": null,
   "metadata": {},
   "outputs": [],
   "source": []
  },
  {
   "cell_type": "code",
   "execution_count": 624,
   "metadata": {},
   "outputs": [],
   "source": [
    "subregion=[]\n",
    "continent=[] \n",
    "counter=0\n",
    "\n",
    "check_nan = df_2015['Country'].isnull()\n",
    "\n",
    "for i in range(df_2015.shape[0]):\n",
    "    x = df_2015.iloc[i]['Country']\n",
    "    if ~check_nan[i]:\n",
    "        subregion.append(df_country.loc[df_country['country']==x,'sub_region'].tolist()[0])\n",
    "        continent.append(df_country.loc[df_country['country']==x,'continent'].tolist()[0])\n",
    "            \n",
    "    else:\n",
    "        subregion.append(np.nan)\n",
    "        continent.append(np.nan)\n",
    "        counter+=1\n",
    "\n",
    "        \n",
    "# Adding two lists to dataframe if their length are equal to dataframe size\n",
    "if len(subregion)== df_2015.shape[0]:\n",
    "    df_2015['UN_subregion']=subregion\n",
    "else:\n",
    "    print('error: subregion size mismatch')\n",
    "\n",
    "        \n",
    "if len(subregion)== df_2015.shape[0]:\n",
    "        df_2015['Continent'] = continent\n",
    "else:\n",
    "        print('error: continent size mismatch')\n"
   ]
  },
  {
   "cell_type": "markdown",
   "metadata": {},
   "source": [
    "#### Gender\n",
    "To check the relation between gender and job satisfaction we categorize them in main 3 different categories: Male, Female and genderqueer"
   ]
  },
  {
   "cell_type": "code",
   "execution_count": 625,
   "metadata": {},
   "outputs": [
    {
     "data": {
      "text/plain": [
       "array(['Male', 'Prefer not to disclose', 'Female', nan, 'Other'],\n",
       "      dtype=object)"
      ]
     },
     "execution_count": 625,
     "metadata": {},
     "output_type": "execute_result"
    }
   ],
   "source": [
    "# The unique values in 2015 survey for gender is as follow\n",
    "df_2015.Gender.unique()"
   ]
  },
  {
   "cell_type": "code",
   "execution_count": 626,
   "metadata": {},
   "outputs": [],
   "source": [
    "# Changing the 'Other' to 'genderqueer' to make consistency\n",
    "df_2015.Gender.replace('Other', 'genderqueer', inplace=True)"
   ]
  },
  {
   "cell_type": "markdown",
   "metadata": {},
   "source": [
    "#### Employment Status\n",
    "For consistency between all other surveys we need to replace following values to new ones."
   ]
  },
  {
   "cell_type": "code",
   "execution_count": 627,
   "metadata": {},
   "outputs": [],
   "source": [
    "# Values in the 'Employment Status' which will be replaced by other values\n",
    "col = [\"I'm a student\",\"Prefer not to disclose\"]\n",
    "\n",
    "# Modified values \n",
    "mod = [\"Student\", \"Other\"]\n",
    "\n",
    "for i in range(len(col)):\n",
    "    df_2015['Employment Status'].replace(col[i], mod[i], inplace=True)"
   ]
  },
  {
   "cell_type": "markdown",
   "metadata": {},
   "source": [
    "#### Job satisfaction\n",
    "To make answers be consistent between all the surveys, replace the values in job satisfaction column as below:"
   ]
  },
  {
   "cell_type": "code",
   "execution_count": 628,
   "metadata": {},
   "outputs": [],
   "source": [
    "col = [\"I'm somewhat satisfied with my job\",\n",
    "       \"I'm neither satisfied nor dissatisfied with my job\",\n",
    "       \"I love my job\",\n",
    "       \"I'm somewhat dissatisfied with my job\",\n",
    "       \"I hate my job\",\n",
    "       \"Other (please specify)\"]\n",
    "\n",
    "mod = [\"Moderately satisfied\",\n",
    "       \"Neither satisfied nor dissatisfied\",\n",
    "       \"Extremely satisfied\",\n",
    "       \"Slightly dissatisfied\",\n",
    "       \"Extremely dissatisfied\",\n",
    "       \"Other\"]\n",
    "\n",
    "for i in range(len(col)):\n",
    "    df_2015['Job Satisfaction'].replace(col[i], mod[i], inplace=True)"
   ]
  },
  {
   "cell_type": "markdown",
   "metadata": {},
   "source": [
    "#### Renaming columns"
   ]
  },
  {
   "cell_type": "code",
   "execution_count": 629,
   "metadata": {},
   "outputs": [
    {
     "data": {
      "text/plain": [
       "Index(['Country', 'Age', 'Gender', 'Compensation', 'Employment Status',\n",
       "       'Job Satisfaction', 'Formal_Education', 'UN_subregion', 'Continent'],\n",
       "      dtype='object')"
      ]
     },
     "execution_count": 629,
     "metadata": {},
     "output_type": "execute_result"
    }
   ],
   "source": [
    "df_2015.columns"
   ]
  },
  {
   "cell_type": "code",
   "execution_count": 630,
   "metadata": {},
   "outputs": [],
   "source": [
    "df_2015.rename(columns={'Age':'Age_Range', \n",
    "                        'Compensation':'Salary_Range',\n",
    "                        'Employment Status':'Employment_Status', \n",
    "                        'Job Satisfaction':'Job_Satisfaction'}, inplace=True)"
   ]
  },
  {
   "cell_type": "markdown",
   "metadata": {},
   "source": [
    "#### Last thing : saving new dataframe df_2015 for further analysis"
   ]
  },
  {
   "cell_type": "code",
   "execution_count": 631,
   "metadata": {},
   "outputs": [],
   "source": [
    "# saving prepared dataframe into new CSV file\n",
    "df_2015.to_csv(mod_df+\"2015.csv.gz\", index=False, header=True, compression='gzip')"
   ]
  },
  {
   "cell_type": "code",
   "execution_count": 632,
   "metadata": {},
   "outputs": [
    {
     "data": {
      "text/plain": [
       "Index(['Country', 'Employment_Status', 'Formal_Education', 'Company_Size',\n",
       "       'Job_Satisfaction', 'Gender', 'ExpectedSalary', 'UN_subregion',\n",
       "       'Continent', 'Salary_Range'],\n",
       "      dtype='object')"
      ]
     },
     "execution_count": 632,
     "metadata": {},
     "output_type": "execute_result"
    }
   ],
   "source": [
    "df_2017.columns"
   ]
  },
  {
   "cell_type": "markdown",
   "metadata": {},
   "source": [
    "<hr style=\"border:1px solid lightblue\"> </hr>"
   ]
  },
  {
   "cell_type": "markdown",
   "metadata": {},
   "source": [
    "### Results from 2016"
   ]
  },
  {
   "cell_type": "code",
   "execution_count": 633,
   "metadata": {},
   "outputs": [],
   "source": [
    "# reading dataframe\n",
    "col_2016=['country','un_subregion','age_range','gender',\n",
    "          'salary_range','employment_status',\n",
    "          'company_size_range','job_satisfaction','education']\n",
    "\n",
    "df_2016 =  pd.read_csv(survey+'2016.csv.gz',usecols=col_2016, compression='gzip')"
   ]
  },
  {
   "cell_type": "markdown",
   "metadata": {},
   "source": [
    "#### Country and Continent\n",
    "First we make the country become same with our refrence also adding 'Continent' column to dataframe.  "
   ]
  },
  {
   "cell_type": "code",
   "execution_count": 634,
   "metadata": {},
   "outputs": [
    {
     "name": "stdout",
     "output_type": "stream",
     "text": [
      "Other (please specify) \",\""
     ]
    }
   ],
   "source": [
    "# checking which countries have different name from this list and modify them for 2016 results. \n",
    "# It seems in 2015 similarity is ok\n",
    "unique_country =[]\n",
    "for x in df_2016.country.unique():\n",
    "    unique_country.append(x)\n",
    "\n",
    "for x in unique_country:\n",
    "    if x not in uniques:\n",
    "        print(x,'\",\"',end=\"\")"
   ]
  },
  {
   "cell_type": "markdown",
   "metadata": {},
   "source": [
    "There is only one difference **'Other (please specify)'**. If any cell value in country column  **'un_subregion'**  "
   ]
  },
  {
   "cell_type": "code",
   "execution_count": 635,
   "metadata": {},
   "outputs": [],
   "source": [
    "# Finding index of the rows with 'Other (please specify)'\n",
    "index = df_2016[df_2016['country']=='Other (please specify)'].index\n",
    "\n",
    "# changing their value to 'Other'\n",
    "df_2016.loc[index,'country'] = 'Other'"
   ]
  },
  {
   "cell_type": "code",
   "execution_count": 636,
   "metadata": {},
   "outputs": [],
   "source": [
    "subregion=[]\n",
    "continent=[] \n",
    "counter=0\n",
    "\n",
    "check_nan = df_2016['country'].isnull()\n",
    "\n",
    "for i in range(df_2016.shape[0]):\n",
    "    x = df_2016.iloc[i]['country']\n",
    "    if ~check_nan[i]:\n",
    "        subregion.append(df_country.loc[df_country['country']==x,'sub_region'].tolist()[0])\n",
    "        continent.append(df_country.loc[df_country['country']==x,'continent'].tolist()[0])\n",
    "            \n",
    "    else:\n",
    "        subregion.append(np.nan)\n",
    "        continent.append(np.nan)\n",
    "        counter+=1\n",
    "\n",
    "        \n",
    "# Adding two lists to dataframe if their length are equal to dataframe size\n",
    "if len(subregion)== df_2016.shape[0]:\n",
    "    df_2016['UN_subregion']=subregion\n",
    "else:\n",
    "    print('error: subregion size mismatch')\n",
    "\n",
    "        \n",
    "if len(subregion)== df_2016.shape[0]:\n",
    "        df_2016['Continent'] = continent\n",
    "else:\n",
    "        print('error: continent size mismatch')\n",
    "\n",
    "\n"
   ]
  },
  {
   "cell_type": "code",
   "execution_count": 637,
   "metadata": {},
   "outputs": [],
   "source": [
    "# If continent and subregion added as without any problem we drop old un_subregion column\n",
    "df_2016.drop(columns=['un_subregion'], inplace=True)"
   ]
  },
  {
   "cell_type": "markdown",
   "metadata": {},
   "source": [
    "#### Employment status\n",
    "There is only one difference between 2015 and 2016 employment status and it's the 'Other' and 'Other (please specify)'. Lets make it be 'Other'."
   ]
  },
  {
   "cell_type": "code",
   "execution_count": 638,
   "metadata": {},
   "outputs": [],
   "source": [
    "# for employment status make consistency between their values\n",
    "df_2016.employment_status.loc[df_2016.employment_status=='Other (please specify)'] = 'Other'"
   ]
  },
  {
   "cell_type": "markdown",
   "metadata": {},
   "source": [
    "#### Formal Education\n",
    "In 2016 results the field of education have multiple decisions as string in each row. We need to make a new 'FormalEducation' column with selected option from the list."
   ]
  },
  {
   "cell_type": "code",
   "execution_count": 639,
   "metadata": {},
   "outputs": [
    {
     "data": {
      "text/plain": [
       "\"I'm self-taught; On-the-job training; B.S. in Computer Science (or related field)\""
      ]
     },
     "execution_count": 639,
     "metadata": {},
     "output_type": "execute_result"
    }
   ],
   "source": [
    "# example of concatanated example\n",
    "df_2016.education[1]\n"
   ]
  },
  {
   "cell_type": "code",
   "execution_count": null,
   "metadata": {},
   "outputs": [],
   "source": []
  },
  {
   "cell_type": "code",
   "execution_count": 640,
   "metadata": {},
   "outputs": [],
   "source": [
    "# load all unique education strings from the dataframe\n",
    "edu_strings = df_2016.education.unique()\n",
    "\n",
    "# separate strings found by split function\n",
    "splited_list = []\n",
    "\n",
    "for edu in edu_strings:\n",
    "    if type(edu) != int and type(edu) != float:\n",
    "        for x in edu.split('; '):\n",
    "            if x not in splited_list:\n",
    "                splited_list.append(x)"
   ]
  },
  {
   "cell_type": "code",
   "execution_count": 641,
   "metadata": {},
   "outputs": [
    {
     "data": {
      "text/plain": [
       "[\"I'm self-taught\",\n",
       " 'On-the-job training',\n",
       " 'B.S. in Computer Science (or related field)',\n",
       " 'Online class (e.g. Coursera, Codecademy, Khan Academy, etc.)',\n",
       " 'B.A. in Computer Science (or related field)',\n",
       " 'Masters Degree in Computer Science (or related field)',\n",
       " 'Some college coursework in Computer Science (or related field)',\n",
       " 'Full-time, intensive program (e.g. \"boot-camp\")',\n",
       " 'Industry certification program',\n",
       " 'PhD in Computer Science (or related field)',\n",
       " 'Part-time program (e.g. night school)',\n",
       " 'Mentorship program (e.g. Flatiron School, GDI, etc.)']"
      ]
     },
     "execution_count": 641,
     "metadata": {},
     "output_type": "execute_result"
    }
   ],
   "source": [
    "# Founded unique strings\n",
    "splited_list"
   ]
  },
  {
   "cell_type": "markdown",
   "metadata": {},
   "source": [
    "Now wee need to check each column and put the match into 'FormalEducation' list to be similar to 2015 results."
   ]
  },
  {
   "cell_type": "code",
   "execution_count": 642,
   "metadata": {},
   "outputs": [
    {
     "data": {
      "text/plain": [
       "array(['Master degree (MA, MS, M.Eng., MBA, etc.)', nan,\n",
       "       'Bachelor degree (BA, BS, B.Eng., etc.)',\n",
       "       'I never completed any formal education',\n",
       "       'Some college/university study without earning a degree',\n",
       "       'Other doctoral degree (Ph.D, Ed.D., etc.)'], dtype=object)"
      ]
     },
     "execution_count": 642,
     "metadata": {},
     "output_type": "execute_result"
    }
   ],
   "source": [
    "# Unique values in 2015 for fomal education\n",
    "df_2015.Formal_Education.unique()"
   ]
  },
  {
   "cell_type": "code",
   "execution_count": 643,
   "metadata": {},
   "outputs": [
    {
     "name": "stdout",
     "output_type": "stream",
     "text": [
      "New column succesfully added\n"
     ]
    }
   ],
   "source": [
    "# dictionary for equivalent string\n",
    "edu_dic={\"I'm self-taught\": 'I never completed any formal education',\n",
    "        'B.S. in Computer Science (or related field)':'Bachelor degree (BA, BS, B.Eng., etc.)',\n",
    "        'B.A. in Computer Science (or related field)':'Bachelor degree (BA, BS, B.Eng., etc.)',\n",
    "        'Masters Degree in Computer Science (or related field)':'Master degree (MA, MS, M.Eng., MBA, etc.)',\n",
    "        'PhD in Computer Science (or related field)':'Other doctoral degree (Ph.D, Ed.D., etc.)'}\n",
    "\n",
    "# check if key exist in a dictionary or not\n",
    "def checkKey(dict, key):\n",
    "    if key in dict.keys():\n",
    "        return True\n",
    "    else:\n",
    "        return False\n",
    "\n",
    "# finding equivalent degree for each syrvey result\n",
    "formal_edu=[]\n",
    "for edu_str in df_2016.education:\n",
    "    if type(edu_str) != int and type(edu_str) != float:\n",
    "        edu_list = edu_str.split('; ')\n",
    "        check = True\n",
    "        value=''\n",
    "        for x in edu_list:\n",
    "            if checkKey(edu_dic, x) and check:\n",
    "                check=False\n",
    "                value=edu_dic[x]\n",
    "        if check:\n",
    "            formal_edu.append('I never completed any formal education')\n",
    "        else:\n",
    "            formal_edu.append(value)\n",
    "    else:\n",
    "        formal_edu.append(np.nan)\n",
    "\n",
    "# Adding new column as 'FormalEducation' to dataframe\n",
    "if len(formal_edu) == df_2016.shape[0]:\n",
    "    df_2016['Formal_Education'] = formal_edu\n",
    "    print('New column succesfully added')\n",
    "else:\n",
    "    print('error: size mismatch to add new column')"
   ]
  },
  {
   "cell_type": "markdown",
   "metadata": {},
   "source": [
    "#### Company Size\n",
    "Now we check the company size values and make it consistent to what we need"
   ]
  },
  {
   "cell_type": "code",
   "execution_count": 644,
   "metadata": {},
   "outputs": [
    {
     "data": {
      "text/plain": [
       "array([nan, '100-499 employees', 'I am not part of a company',\n",
       "       '10-19 employees', '5-9 employees', '20-99 employees',\n",
       "       '1-4 employees', '500-999 employees', '1,000-4,999 employees',\n",
       "       '10,000+ employees', '5,000-9,999 employees', 'I am not sure',\n",
       "       'Other (please specify)'], dtype=object)"
      ]
     },
     "execution_count": 644,
     "metadata": {},
     "output_type": "execute_result"
    }
   ],
   "source": [
    "df_2016.company_size_range.unique()"
   ]
  },
  {
   "cell_type": "code",
   "execution_count": 645,
   "metadata": {},
   "outputs": [],
   "source": [
    "# change the column values\n",
    "col = [\"100-499 employees\",\"I am not part of a company\",\"10-19 employees\",\n",
    "       \"5-9\temployees\",\"20-99 employees\",\"1-4 employees\",\n",
    "       \"500-999 employees\",\"1,000-4,999 employees\",\"10,000+ employees\",\n",
    "       \"5,000-9,999 employees\",\"I am not sure\",\"Other (please specify)\"] #Changing thses to new one\n",
    "\n",
    "# Modified values\n",
    "mod = [\"100-500\",\"I am not part of a company\",\n",
    "       \"10-19\",\"<10\",\"20-99\",\"<10\",\"500-999\",\n",
    "       \"1000\",\"10000+\",\"5000-9999\",\"I am not sure\",\n",
    "       \"I prefer not to answer\"]\n",
    "\n",
    "for i in range(len(col)):\n",
    "    df_2016.company_size_range.replace(col[i], mod[i], inplace=True)"
   ]
  },
  {
   "cell_type": "code",
   "execution_count": 646,
   "metadata": {},
   "outputs": [
    {
     "data": {
      "text/plain": [
       "Index(['Country', 'Age_Range', 'Gender', 'Salary_Range', 'Employment_Status',\n",
       "       'Job_Satisfaction', 'Formal_Education', 'UN_subregion', 'Continent'],\n",
       "      dtype='object')"
      ]
     },
     "execution_count": 646,
     "metadata": {},
     "output_type": "execute_result"
    }
   ],
   "source": [
    "df_2016.salary_range.unique()\n",
    "df_2015.columns"
   ]
  },
  {
   "cell_type": "code",
   "execution_count": 647,
   "metadata": {},
   "outputs": [],
   "source": [
    "df_2016.salary_range.replace('Other (please specify)','Other', inplace=True)"
   ]
  },
  {
   "cell_type": "markdown",
   "metadata": {},
   "source": [
    "#### Job satisfaction\n",
    "Change the values of job satisfaction column for consistency:"
   ]
  },
  {
   "cell_type": "code",
   "execution_count": 648,
   "metadata": {},
   "outputs": [],
   "source": [
    "col = [\"I love my job\",\n",
    "       \"I don't have a job\",\n",
    "       \"I'm somewhat satisfied with my job\",\n",
    "       \"I'm somewhat dissatisfied with my job\",\n",
    "       \"I'm neither satisfied nor dissatisfied\",\n",
    "       \"I hate my job\",\n",
    "       \"Other (please specify)\"]\n",
    "\n",
    "mod =[\"Extremely dissatisfied\",\n",
    "      \"Other\",\n",
    "      \"Moderately satisfied\",\n",
    "      \"Slightly dissatisfied\",\n",
    "      \"Neither satisfied nor dissatisfied\",\n",
    "      \"Extremely dissatisfied\",\n",
    "      \"Other\"]\n",
    "\n",
    "for i in range(len(col)):\n",
    "    df_2016.job_satisfaction.replace(col[i], mod[i], inplace=True)"
   ]
  },
  {
   "cell_type": "markdown",
   "metadata": {},
   "source": [
    "#### Renaming and dropping unused columns"
   ]
  },
  {
   "cell_type": "code",
   "execution_count": 649,
   "metadata": {},
   "outputs": [
    {
     "data": {
      "text/plain": [
       "Index(['country', 'age_range', 'gender', 'salary_range', 'employment_status',\n",
       "       'company_size_range', 'job_satisfaction', 'education', 'UN_subregion',\n",
       "       'Continent', 'Formal_Education'],\n",
       "      dtype='object')"
      ]
     },
     "execution_count": 649,
     "metadata": {},
     "output_type": "execute_result"
    }
   ],
   "source": [
    "df_2016.columns"
   ]
  },
  {
   "cell_type": "code",
   "execution_count": 650,
   "metadata": {},
   "outputs": [],
   "source": [
    "df_2016.rename(columns={'country':'Country',\n",
    "                       'age_range':'Age_Range',\n",
    "                       'gender':'Gender',\n",
    "                       'salary_range':'Salary_Range',\n",
    "                       'employment_status':'Employment_Status',\n",
    "                       'company_size_range':'Company_Size',\n",
    "                       'job_satisfaction':'Job_Satisfaction'},\n",
    "              inplace=True)"
   ]
  },
  {
   "cell_type": "code",
   "execution_count": 651,
   "metadata": {},
   "outputs": [],
   "source": [
    "df_2016.drop(columns=['education'], inplace=True)"
   ]
  },
  {
   "cell_type": "markdown",
   "metadata": {},
   "source": [
    "#### Saving the dataframe for later analysis"
   ]
  },
  {
   "cell_type": "code",
   "execution_count": 652,
   "metadata": {},
   "outputs": [],
   "source": [
    "# saving prepared dataframe into new CSV file\n",
    "df_2016.to_csv(mod_df+\"2016.csv.gz\", index=False, header=True, compression='gzip')"
   ]
  },
  {
   "cell_type": "markdown",
   "metadata": {},
   "source": [
    "<hr style=\"border:1px solid lightblue\"> </hr>"
   ]
  },
  {
   "cell_type": "markdown",
   "metadata": {},
   "source": [
    "### Results from 2017"
   ]
  },
  {
   "cell_type": "markdown",
   "metadata": {},
   "source": [
    "We again check the dataframe to find dissimilarities and find a way to correct them"
   ]
  },
  {
   "cell_type": "code",
   "execution_count": 653,
   "metadata": {},
   "outputs": [],
   "source": [
    "# columns that could be helpfull in analyzing this dataset\n",
    "col_2017 = ['Country','EmploymentStatus','FormalEducation','CompanySize', \n",
    "            'CareerSatisfaction','JobSatisfaction','Gender',\n",
    "            'Salary','ExpectedSalary']\n",
    "\n",
    "# reading data from CSV file\n",
    "df_2017 =  pd.read_csv(survey+'2017.csv.gz',usecols=col_2017, compression='gzip')\n"
   ]
  },
  {
   "cell_type": "code",
   "execution_count": 654,
   "metadata": {},
   "outputs": [
    {
     "name": "stdout",
     "output_type": "stream",
     "text": [
      "I prefer not to say \",\"Moldavia \",\"Ireland \",\"Aland Islands \",\"New Caledonia (French) \",\"U.S. Minor Outlying Islands \",\"Polynesia (French) \",\"French Guyana \",\"Pitcairn Island \",\"Antigua and Barbuda \",\"Martinique (French) \",\"Heard and McDonald Islands \",\""
     ]
    }
   ],
   "source": [
    "# checking which countries have different name from this list and modify them for 2016 results. \n",
    "# It seems in 2015 similarity is ok\n",
    "unique_country =[]\n",
    "for x in df_2017.Country.unique():\n",
    "    unique_country.append(x)\n",
    "\n",
    "for x in unique_country:\n",
    "    if x not in uniques:\n",
    "        print(x,'\",\"',end=\"\")"
   ]
  },
  {
   "cell_type": "code",
   "execution_count": 655,
   "metadata": {},
   "outputs": [],
   "source": [
    "# Dissimilarities\n",
    "col = [\"I prefer not to say\",\"Moldavia\",\"Ireland\",\"Aland Islands\",\n",
    "       \"New Caledonia (French)\",\"U.S. Minor Outlying Islands\",\n",
    "       \"Polynesia (French)\",\"French Guyana\",\"Pitcairn Island\",\"Antigua and Barbuda\",\n",
    "       \"Martinique (French)\",\"Macau\",\"Heard and McDonald Islands\"] # Columns have naming difference\n",
    "\n",
    "# Modification\n",
    "mod =[\"Other\",\"Moldova\",\"Ireland {Republic}\",\"Åland Islands\",\"New Caledonia\",\n",
    "      \"United States Minor Outlying Islands\",\"French Polynesia\",\"Guyana\",\n",
    "      \"Pitcairn\",\"Antigua & Deps\",\"Martinique\",\"Macau\",\"Heard and Island and McDonald Islands\"]\n",
    "\n",
    "for i in range(len(col)):\n",
    "    df_2017.replace(to_replace=col[i], value=mod[i], inplace=True )"
   ]
  },
  {
   "cell_type": "markdown",
   "metadata": {},
   "source": [
    "First check country and add subregion and continent to it."
   ]
  },
  {
   "cell_type": "code",
   "execution_count": 656,
   "metadata": {},
   "outputs": [],
   "source": [
    "subregion=[]\n",
    "continent=[] \n",
    "counter=0\n",
    "\n",
    "check_nan = df_2017['Country'].isnull()\n",
    "\n",
    "for i in range(df_2017.shape[0]):\n",
    "    x = df_2017.iloc[i]['Country']\n",
    "    if ~check_nan[i]:\n",
    "        subregion.append(df_country.loc[df_country['country']==x,'sub_region'].tolist()[0])\n",
    "        continent.append(df_country.loc[df_country['country']==x,'continent'].tolist()[0])\n",
    "            \n",
    "    else:\n",
    "        subregion.append(np.nan)\n",
    "        continent.append(np.nan)\n",
    "        counter+=1\n",
    "\n",
    "        \n",
    "# Adding two lists to dataframe if their length are equal to dataframe size\n",
    "if len(subregion)== df_2017.shape[0]:\n",
    "    df_2017['UN_subregion']=subregion\n",
    "else:\n",
    "    print('error: subregion size mismatch')\n",
    "\n",
    "        \n",
    "if len(subregion)== df_2017.shape[0]:\n",
    "        df_2017['Continent'] = continent\n",
    "else:\n",
    "        print('error: continent size mismatch')\n"
   ]
  },
  {
   "cell_type": "markdown",
   "metadata": {},
   "source": [
    "#### Company size\n",
    "Changing company size to be consistent"
   ]
  },
  {
   "cell_type": "code",
   "execution_count": null,
   "metadata": {},
   "outputs": [],
   "source": []
  },
  {
   "cell_type": "code",
   "execution_count": 657,
   "metadata": {},
   "outputs": [
    {
     "data": {
      "text/plain": [
       "array([nan, '20 to 99 employees', '10,000 or more employees',\n",
       "       '10 to 19 employees', 'Fewer than 10 employees',\n",
       "       '5,000 to 9,999 employees', '100 to 499 employees',\n",
       "       '1,000 to 4,999 employees', '500 to 999 employees', \"I don't know\",\n",
       "       'I prefer not to answer', 'Brunei'], dtype=object)"
      ]
     },
     "execution_count": 657,
     "metadata": {},
     "output_type": "execute_result"
    }
   ],
   "source": [
    "df_2017['CompanySize'].unique()"
   ]
  },
  {
   "cell_type": "code",
   "execution_count": 658,
   "metadata": {},
   "outputs": [],
   "source": [
    "# change the column values\n",
    "col = [\"20 to 99 employees\",\"10,000 or more employees\",\"10 to 19 employees\",\n",
    "       \"Fewer than 10 employees\",\"5,000 to 9,999 employees\",\"100 to 499 employees\",\n",
    "       \"1,000 to 4,999 employees\",\"500 to 999 employees\",\n",
    "       \"I don't know\",\"I prefer not to answer\",\"Brunei\"] #Changing thses to new one\n",
    "\n",
    "# Modified values\n",
    "mod = [\"20-99\",\"10000+\",\"10-19\",\"<10\",\"5000-9999\",\n",
    "       \"100-499\",\"1000-5000\",\"500-1000\",\n",
    "       \"I don't know\",\"I prefer not to answer\",\"nan\"]\n",
    "\n",
    "# Replace them with new values\n",
    "for i in range(len(col)):\n",
    "    df_2017.CompanySize.replace(col[i], mod[i], inplace=True)"
   ]
  },
  {
   "cell_type": "code",
   "execution_count": 477,
   "metadata": {},
   "outputs": [
    {
     "data": {
      "text/plain": [
       "array([nan, '20-99', '10000+', '10-19', '<10', '5000-9999', '100-499',\n",
       "       '1000-5000', '500-1000', \"I don't know\", 'I prefer not to answer',\n",
       "       'nan'], dtype=object)"
      ]
     },
     "execution_count": 477,
     "metadata": {},
     "output_type": "execute_result"
    }
   ],
   "source": [
    "# new Values\n",
    "df_2017.CompanySize.unique()"
   ]
  },
  {
   "cell_type": "code",
   "execution_count": null,
   "metadata": {},
   "outputs": [],
   "source": []
  },
  {
   "cell_type": "markdown",
   "metadata": {},
   "source": [
    "#### Job satisfaction\n",
    "In this survey questionier was asked to answer with number between 0 to 10. Changing this evaluation with values as below:"
   ]
  },
  {
   "cell_type": "code",
   "execution_count": 478,
   "metadata": {},
   "outputs": [],
   "source": [
    "col = [i for i in range(11)]\n",
    "\n",
    "mod =[\"Extremely dissatisfied\",\"Extremely dissatisfied\",\n",
    "      \"Moderately dissatisfied\",\"Moderately dissatisfied\",\n",
    "      \"Neither satisfied nor dissatisfied\",\"Neither satisfied nor dissatisfied\",\n",
    "      \"Slightly satisfied\",\n",
    "      \"Moderately satisfied\",\"Moderately satisfied\",\n",
    "      \"Extremely satisfied\",\"Extremely satisfied\"]\n",
    "\n",
    "for i in range(len(col)):\n",
    "    df_2017.JobSatisfaction.replace(col[i], mod[i], inplace=True)"
   ]
  },
  {
   "cell_type": "markdown",
   "metadata": {},
   "source": [
    "#### Slary Range\n",
    "In 2017 survey results the values are numeric and there is no range. So we add 'Salary_range' column to it."
   ]
  },
  {
   "cell_type": "code",
   "execution_count": 479,
   "metadata": {},
   "outputs": [],
   "source": [
    "# Adding the column\n",
    "df_2017['Salary_Range']=np.nan\n",
    "\n",
    "salary=10000\n",
    "step =10000\n",
    "up_bound=200000\n",
    "\n",
    "# using the following dictionary to replace values\n",
    "dic = {40000:\"$40,000 - $50,000\",\n",
    "        200000:\"More than $200,000\",\n",
    "        10000:\"$10,000 - $20,000\",\n",
    "        90000:\"$90,000 - $100,000\",\n",
    "        30000:\"$30,000 - $40,000\",\n",
    "        20000:\"$20,000 - $30,000\",\n",
    "        70000:\"$70,000 - $80,000\",\n",
    "        80000:\"$80,000 - $90,000\",\n",
    "        50000:\"$50,000 - $60,000\",\n",
    "        60000:\"$60,000 - $70,000\",\n",
    "        140000:\"$140,000 - $150,000\",\n",
    "        130000:\"$130,000 - $140,000\",\n",
    "        100000:\"$100,000 - $110,000\",\n",
    "        110000:\"$110,000 - $120,000\",\n",
    "        160000:\"$160,000 - $170,000\",\n",
    "        180000:\"$180,000 - $190,000\",\n",
    "        120000:\"$120,000 - $130,000\",\n",
    "        150000:\"$150,000 - $160,000\",\n",
    "        190000:\"$190,000 - $200,000\",\n",
    "        170000:\"$170,000 - $180,000\"}\n",
    "\n",
    "# for less than $10,000 salary\n",
    "index = df_2017.Salary[df_2017.Salary < 10000.0].index\n",
    "df_2017.loc[index,'Salary_Range']= 'Less than $10,000'\n",
    "\n",
    "# Between $10,000 to $190,000\n",
    "while salary <= up_bound:\n",
    "    index = df_2017.Salary[(df_2017['Salary'] >= salary) & (df_2017['Salary'] < salary+step)].index\n",
    "    df_2017.loc[index,'Salary_Range']= dic[salary]\n",
    "    salary+=step\n",
    "\n",
    "\n",
    " "
   ]
  },
  {
   "cell_type": "code",
   "execution_count": 480,
   "metadata": {},
   "outputs": [
    {
     "data": {
      "text/plain": [
       "38501"
      ]
     },
     "execution_count": 480,
     "metadata": {},
     "output_type": "execute_result"
    }
   ],
   "source": [
    "# number of null values\n",
    "np.sum(df_2017.Salary_Range.isnull())"
   ]
  },
  {
   "cell_type": "markdown",
   "metadata": {},
   "source": [
    "There are two columns **'Salary'** and **'ExpectedSalary'** in 2017 results data sets. There are cases which **'Salary'** is **nan** but there is value for expected salary. It's not bad idea to use that value as salary when its nan."
   ]
  },
  {
   "cell_type": "code",
   "execution_count": 481,
   "metadata": {},
   "outputs": [],
   "source": [
    "salary=10000\n",
    "step =10000\n",
    "up_bound=200000\n",
    "\n",
    "\n",
    "df_temp = df_2017[(df_2017['ExpectedSalary'] != np.nan) & (df_2017['ExpectedSalary'] < 10000)]\n",
    "index = df_temp.Salary.isnull().index\n",
    "df_2017.loc[index,'Salary_Range']= 'Less than $10,000'\n",
    "\n",
    "# Between $10,000 to $190,000\n",
    "while salary <= up_bound:\n",
    "    df_temp = df_2017[(df_2017['ExpectedSalary']  >= salary) & (df_2017['ExpectedSalary'] < salary+step)]\n",
    "    index   = df_temp.Salary.isnull().index\n",
    "    #print(index)\n",
    "    df_2017.loc[index,'Salary_Range']= dic[salary]\n",
    "    salary+=step\n",
    "    \n",
    "    \n",
    "#df_2017.loc[index,'Salary_range']= 'Less than $10,000'"
   ]
  },
  {
   "cell_type": "code",
   "execution_count": 483,
   "metadata": {},
   "outputs": [
    {
     "data": {
      "text/plain": [
       "35935"
      ]
     },
     "execution_count": 483,
     "metadata": {},
     "output_type": "execute_result"
    }
   ],
   "source": [
    "# number of null values after considering ExpectedSalary\n",
    "np.sum(df_2017.Salary_Range.isnull())"
   ]
  },
  {
   "cell_type": "code",
   "execution_count": 484,
   "metadata": {},
   "outputs": [
    {
     "data": {
      "text/plain": [
       "array(['Secondary school',\n",
       "       \"Some college/university study without earning a bachelor's degree\",\n",
       "       \"Bachelor's degree\", 'Doctoral degree', \"Master's degree\",\n",
       "       'Professional degree', 'Primary/elementary school',\n",
       "       'I prefer not to answer', 'I never completed any formal education'],\n",
       "      dtype=object)"
      ]
     },
     "execution_count": 484,
     "metadata": {},
     "output_type": "execute_result"
    }
   ],
   "source": [
    "df_2017.FormalEducation.unique()"
   ]
  },
  {
   "cell_type": "markdown",
   "metadata": {},
   "source": [
    "#### Renaming columns"
   ]
  },
  {
   "cell_type": "code",
   "execution_count": 486,
   "metadata": {},
   "outputs": [
    {
     "data": {
      "text/plain": [
       "Index(['Country', 'EmploymentStatus', 'FormalEducation', 'CompanySize',\n",
       "       'CareerSatisfaction', 'JobSatisfaction', 'Gender', 'Salary',\n",
       "       'ExpectedSalary', 'UN_subregion', 'Continent', 'Salary_Range'],\n",
       "      dtype='object')"
      ]
     },
     "execution_count": 486,
     "metadata": {},
     "output_type": "execute_result"
    }
   ],
   "source": [
    "df_2017.columns"
   ]
  },
  {
   "cell_type": "code",
   "execution_count": 487,
   "metadata": {},
   "outputs": [],
   "source": [
    "df_2017.rename(columns={'EmploymentStatus':'Employment_Status',\n",
    "                       'FormalEducation':'Formal_Education',\n",
    "                       'CompanySize':'Company_Size',\n",
    "                       'JobSatisfaction':'Job_Satisfaction'},\n",
    "              inplace=True)"
   ]
  },
  {
   "cell_type": "code",
   "execution_count": 488,
   "metadata": {},
   "outputs": [],
   "source": [
    "df_2017.drop(columns=['CareerSatisfaction','Salary'], inplace=True)"
   ]
  },
  {
   "cell_type": "markdown",
   "metadata": {},
   "source": [
    "#### Final step save the dataframe"
   ]
  },
  {
   "cell_type": "code",
   "execution_count": null,
   "metadata": {},
   "outputs": [],
   "source": []
  },
  {
   "cell_type": "code",
   "execution_count": 151,
   "metadata": {},
   "outputs": [],
   "source": [
    "# saving prepared dataframe into new CSV file\n",
    "df_2017.to_csv(mod_df+\"2017.csv.gz\", index=False, header=True, compression='gzip')"
   ]
  },
  {
   "cell_type": "markdown",
   "metadata": {},
   "source": [
    "<hr style=\"border:1px solid lightblue\"> </hr>"
   ]
  },
  {
   "cell_type": "markdown",
   "metadata": {},
   "source": [
    "### Results from 2018"
   ]
  },
  {
   "cell_type": "code",
   "execution_count": 536,
   "metadata": {},
   "outputs": [
    {
     "name": "stderr",
     "output_type": "stream",
     "text": [
      "C:\\ProgramData\\Anaconda3\\lib\\site-packages\\IPython\\core\\interactiveshell.py:3146: DtypeWarning: Columns (8,12,13,52,53,120,124) have mixed types.Specify dtype option on import or set low_memory=False.\n",
      "  has_raised = await self.run_ast_nodes(code_ast.body, cell_name,\n"
     ]
    }
   ],
   "source": [
    "# columns to be used for reding 2018 results \n",
    "col_2018 = ['Country','Employment','FormalEducation',\n",
    "            'CompanySize','JobSatisfaction','CareerSatisfaction',\n",
    "            'Salary','SalaryType','ConvertedSalary','Gender','Age']\n",
    "\n",
    "df_2018 = pd.read_csv(survey+\"2018.csv.gz\", usecols=col_2018, compression='gzip')"
   ]
  },
  {
   "cell_type": "code",
   "execution_count": 537,
   "metadata": {},
   "outputs": [
    {
     "data": {
      "text/plain": [
       "51153"
      ]
     },
     "execution_count": 537,
     "metadata": {},
     "output_type": "execute_result"
    }
   ],
   "source": [
    "np.sum(df_2018.ConvertedSalary.isnull())"
   ]
  },
  {
   "cell_type": "code",
   "execution_count": null,
   "metadata": {},
   "outputs": [],
   "source": []
  },
  {
   "cell_type": "markdown",
   "metadata": {},
   "source": [
    "#### Country and continent\n",
    "First thing first. Country and continent."
   ]
  },
  {
   "cell_type": "code",
   "execution_count": 538,
   "metadata": {},
   "outputs": [
    {
     "name": "stdout",
     "output_type": "stream",
     "text": [
      "Iran, Islamic Republic of... \",\"Other Country (Not Listed Above) \",\""
     ]
    }
   ],
   "source": [
    "# checking which countries have different name from this list and modify them for 2016 results. \n",
    "# It seems in 2015 similarity is ok\n",
    "unique_country =[]\n",
    "for x in df_2018.Country.unique():\n",
    "    unique_country.append(x)\n",
    "\n",
    "for x in unique_country:\n",
    "    if x not in uniques:\n",
    "        print(x,'\",\"',end=\"\")"
   ]
  },
  {
   "cell_type": "code",
   "execution_count": 539,
   "metadata": {},
   "outputs": [],
   "source": [
    "# There is only two differences. lets solve them by replace command\n",
    "df_2018.Country.replace(\"Iran, Islamic Republic of...\", \"Iran\", inplace=True)\n",
    "df_2018.Country.replace(\"Other Country (Not Listed Above)\", \"Other\", inplace=True)\n",
    "\n"
   ]
  },
  {
   "cell_type": "code",
   "execution_count": 540,
   "metadata": {},
   "outputs": [],
   "source": [
    "# Adding subregion and continent columns\n",
    "subregion=[]\n",
    "continent=[] \n",
    "counter=0\n",
    "\n",
    "check_nan = df_2018['Country'].isnull()\n",
    "\n",
    "for i in range(df_2018.shape[0]):\n",
    "    x = df_2018.iloc[i]['Country']\n",
    "    if ~check_nan[i]:\n",
    "        subregion.append(df_country.loc[df_country['country']==x,'sub_region'].tolist()[0])\n",
    "        continent.append(df_country.loc[df_country['country']==x,'continent'].tolist()[0])\n",
    "            \n",
    "    else:\n",
    "        subregion.append(np.nan)\n",
    "        continent.append(np.nan)\n",
    "        counter+=1\n",
    "\n",
    "        \n",
    "# Adding two lists to dataframe if their length are equal to dataframe size\n",
    "if len(subregion)== df_2018.shape[0]:\n",
    "    df_2018['UN_subregion']=subregion\n",
    "else:\n",
    "    print('error: subregion size mismatch')\n",
    "\n",
    "        \n",
    "if len(subregion)== df_2018.shape[0]:\n",
    "        df_2018['Continent'] = continent\n",
    "else:\n",
    "        print('error: continent size mismatch')\n"
   ]
  },
  {
   "cell_type": "markdown",
   "metadata": {},
   "source": [
    "#### Company size\n",
    "Changing the company size values"
   ]
  },
  {
   "cell_type": "code",
   "execution_count": 541,
   "metadata": {},
   "outputs": [],
   "source": [
    "col = [\"20 to 99 employees\",\"10,000 or more employees\",\"100 to 499 employees\",\n",
    "       \"10 to 19 employees\",\"500 to 999 employees\",\n",
    "       \"1,000 to 4,999 employees\",\"5,000 to 9,999 employees\",\n",
    "       \"Fewer than 10 employees\"]\n",
    "\n",
    "mod = [\"20-99\",\"10000+\",\"100-499\",\"10-19\",\"500-99\",\"1000-4999\",\"5000-9999\",\"<10\"]\n",
    "\n",
    "for i in range(len(col)):\n",
    "    df_2018.CompanySize.replace(col[i], mod[i], inplace=True)"
   ]
  },
  {
   "cell_type": "markdown",
   "metadata": {},
   "source": [
    "#### Gender\n",
    "There are different selection for Gende for each column. For see the affect of Gender on job satisfaction we group them in three different cases: Male, Female, genderqueer"
   ]
  },
  {
   "cell_type": "code",
   "execution_count": 542,
   "metadata": {},
   "outputs": [
    {
     "data": {
      "text/plain": [
       "array(['Male', nan, 'Female',\n",
       "       'Female;Male;Transgender;Non-binary, genderqueer, or gender non-conforming',\n",
       "       'Female;Male',\n",
       "       'Male;Non-binary, genderqueer, or gender non-conforming',\n",
       "       'Non-binary, genderqueer, or gender non-conforming', 'Transgender',\n",
       "       'Female;Transgender',\n",
       "       'Transgender;Non-binary, genderqueer, or gender non-conforming',\n",
       "       'Female;Non-binary, genderqueer, or gender non-conforming',\n",
       "       'Female;Transgender;Non-binary, genderqueer, or gender non-conforming',\n",
       "       'Male;Transgender', 'Female;Male;Transgender',\n",
       "       'Female;Male;Non-binary, genderqueer, or gender non-conforming',\n",
       "       'Male;Transgender;Non-binary, genderqueer, or gender non-conforming'],\n",
       "      dtype=object)"
      ]
     },
     "execution_count": 542,
     "metadata": {},
     "output_type": "execute_result"
    }
   ],
   "source": [
    "df_2018.Gender.unique()"
   ]
  },
  {
   "cell_type": "code",
   "execution_count": 543,
   "metadata": {},
   "outputs": [],
   "source": [
    "# To make it consistent with other surveys we just limit gender to three categories: Male, Female, genderqueer\n",
    "# replacing non-binary values with genderqueer \n",
    "index = df_2018[~df_2018['Gender'].isin(['Male', 'Female', np.nan])].index\n",
    "df_2018.loc[index, 'Gender'] = 'genderqueer'"
   ]
  },
  {
   "cell_type": "markdown",
   "metadata": {},
   "source": [
    "#### Salary range\n",
    "Adding new column **'Salary_range'** to make consistency between datasets"
   ]
  },
  {
   "cell_type": "code",
   "execution_count": 544,
   "metadata": {},
   "outputs": [],
   "source": [
    "#In 2018 survey results the values are numeric and there is no range. So we add 'Salary_range' column to it.\n",
    "\n",
    "# Adding the column\n",
    "df_2018['Salary_range']=np.nan\n",
    "\n",
    "salary=10000\n",
    "step =10000\n",
    "up_bound=200000\n",
    "\n",
    "# using the following dictionary to replace values\n",
    "dic = {40000:\"$40,000 - $50,000\",\n",
    "        200000:\"More than $200,000\",\n",
    "        10000:\"$10,000 - $20,000\",\n",
    "        90000:\"$90,000 - $100,000\",\n",
    "        30000:\"$30,000 - $40,000\",\n",
    "        20000:\"$20,000 - $30,000\",\n",
    "        70000:\"$70,000 - $80,000\",\n",
    "        80000:\"$80,000 - $90,000\",\n",
    "        50000:\"$50,000 - $60,000\",\n",
    "        60000:\"$60,000 - $70,000\",\n",
    "        140000:\"$140,000 - $150,000\",\n",
    "        130000:\"$130,000 - $140,000\",\n",
    "        100000:\"$100,000 - $110,000\",\n",
    "        110000:\"$110,000 - $120,000\",\n",
    "        160000:\"$160,000 - $170,000\",\n",
    "        180000:\"$180,000 - $190,000\",\n",
    "        120000:\"$120,000 - $130,000\",\n",
    "        150000:\"$150,000 - $160,000\",\n",
    "        190000:\"$190,000 - $200,000\",\n",
    "        170000:\"$170,000 - $180,000\"}\n",
    "\n",
    "# for less than $10,000 salary\n",
    "index = df_2018.ConvertedSalary[(df_2018['ConvertedSalary'] < 10000.0) & (df_2018['ConvertedSalary'] != np.nan)].index\n",
    "df_2018.loc[index,'Salary_range']= 'Less than $10,000'\n",
    "\n",
    "# Between $10,000 to $190,000\n",
    "while salary <= up_bound:\n",
    "    index = df_2018.ConvertedSalary[(df_2018['ConvertedSalary'] >= salary) & (df_2018['ConvertedSalary'] < salary+step)].index\n",
    "    df_2018.loc[index,'Salary_range']= dic[salary]\n",
    "    salary+=step\n",
    "\n"
   ]
  },
  {
   "cell_type": "markdown",
   "metadata": {},
   "source": [
    "#### Formal Education\n",
    "To make consistency between values we replace (Rename) the values in dataframe as follow "
   ]
  },
  {
   "cell_type": "code",
   "execution_count": 545,
   "metadata": {},
   "outputs": [],
   "source": [
    "col = [\"Bachelor’s degree (BA, BS, B.Eng., etc.)\",\n",
    "       \"Associate degree\",\n",
    "       \"Some college/university study without earning a degree\",\n",
    "       \"Master’s degree (MA, MS, M.Eng., MBA, etc.)\",\n",
    "       \"Secondary school (e.g. American high school, German Realschule or Gymnasium, etc.)\",\n",
    "       \"Primary/elementary school\",\"Professional degree (JD, MD, etc.)\",\n",
    "       \"I never completed any formal education\",\n",
    "       \"Other doctoral degree (Ph.D, Ed.D., etc.)\"]\n",
    "\n",
    "mod = [\"Bachelor's degree\",\n",
    "       \"Associate degree\",\n",
    "       \"Some college/university study without earning a bachelor's degree\",\n",
    "       \"Master's degree\",\n",
    "       \"Secondary school\",\n",
    "       \"Primary/elementary school\",\n",
    "       \"Professional degree\",\n",
    "       \"I never completed any formal education\",\n",
    "       \"Doctoral degree\"]\n",
    "\n",
    "\n",
    "for i in range(len(col)):\n",
    "    df_2018.FormalEducation.replace(col[i], mod[i], inplace=True)"
   ]
  },
  {
   "cell_type": "markdown",
   "metadata": {},
   "source": [
    "#### Employment Status"
   ]
  },
  {
   "cell_type": "code",
   "execution_count": 546,
   "metadata": {},
   "outputs": [],
   "source": [
    "col = [\"Employed part-time\",\"Employed full-time\",\n",
    "       \"Independent contractor, freelancer, or self-employed,\",\n",
    "       \"Not employed, and not looking for work,\",\n",
    "       \"Not employed, but looking for work\",\"Retired\"]\n",
    "\n",
    "mod = [\"Employed part-time\",\"Employed full-time\",\n",
    "       \"Freelance / Contractor\",\"Unemployed\",\n",
    "       \"Unemployed, looking for work\",\"Retired\"]\n",
    "\n",
    "for i in range(len(col)):\n",
    "    df_2018.FormalEducation.replace(col[i], mod[i], inplace=True)"
   ]
  },
  {
   "cell_type": "markdown",
   "metadata": {},
   "source": [
    "#### Renaming columns and drop"
   ]
  },
  {
   "cell_type": "code",
   "execution_count": 547,
   "metadata": {},
   "outputs": [
    {
     "data": {
      "text/plain": [
       "Index(['Country', 'Employment', 'FormalEducation', 'CompanySize',\n",
       "       'JobSatisfaction', 'CareerSatisfaction', 'Salary', 'SalaryType',\n",
       "       'ConvertedSalary', 'Gender', 'Age', 'UN_subregion', 'Continent',\n",
       "       'Salary_range'],\n",
       "      dtype='object')"
      ]
     },
     "execution_count": 547,
     "metadata": {},
     "output_type": "execute_result"
    }
   ],
   "source": [
    "df_2018.columns"
   ]
  },
  {
   "cell_type": "code",
   "execution_count": 548,
   "metadata": {},
   "outputs": [],
   "source": [
    "df_2018.rename(columns={'Age':'Age_Range', 'FormalEducation':'Formal_Education',\n",
    "                        'CompanySize':'Company_Size', \n",
    "                        'Employment':'Employment_Status',\n",
    "                        'JobSatisfaction':'Job_Satisfaction',\n",
    "                       'CareerSatisfaction':'Career_Satisfaction'},\n",
    "              inplace=True)"
   ]
  },
  {
   "cell_type": "code",
   "execution_count": 549,
   "metadata": {},
   "outputs": [],
   "source": [
    "df_2018.drop(columns=['Salary','SalaryType','ConvertedSalary'], inplace=True)"
   ]
  },
  {
   "cell_type": "markdown",
   "metadata": {},
   "source": [
    "#### Saving 2018 dataframe"
   ]
  },
  {
   "cell_type": "code",
   "execution_count": 41,
   "metadata": {},
   "outputs": [
    {
     "name": "stderr",
     "output_type": "stream",
     "text": [
      "C:\\ProgramData\\Anaconda3\\lib\\site-packages\\IPython\\core\\interactiveshell.py:3146: DtypeWarning: Columns (8,12,13,14,15,16,50,51,52,53,55,56,57,58,59,60,61,62,63,64,65,66,67,68,69,70,71,72,73,74,75,76,77,78,79,80,81,82,83,84,85,93,94,95,96,97,98,99,100,101,102,103,104,105,106,107,108,109,110,111,112,113,114,115,116,117,118,119,120,121,122,123,124,125,126,127,128) have mixed types.Specify dtype option on import or set low_memory=False.\n",
      "  has_raised = await self.run_ast_nodes(code_ast.body, cell_name,\n"
     ]
    }
   ],
   "source": [
    "df_2018.to_csv(mod_df+\"2018.csv.gz\", index=False, header=True, compression='gzip')"
   ]
  },
  {
   "cell_type": "code",
   "execution_count": 257,
   "metadata": {},
   "outputs": [],
   "source": [
    "#df_2018.hist();"
   ]
  },
  {
   "cell_type": "code",
   "execution_count": 258,
   "metadata": {},
   "outputs": [],
   "source": [
    "#sns.heatmap(df_2018.corr(), annot=True, fmt=\".2f\");"
   ]
  },
  {
   "cell_type": "markdown",
   "metadata": {},
   "source": [
    "<hr style=\"border:1px solid lightblue\"> </hr>"
   ]
  },
  {
   "cell_type": "markdown",
   "metadata": {},
   "source": [
    "### Results from 2019"
   ]
  },
  {
   "cell_type": "code",
   "execution_count": 527,
   "metadata": {},
   "outputs": [],
   "source": [
    "# Selected columns to read from 2019 dataset\n",
    "col_2019 = ['Employment','Country','EdLevel','OrgSize','CareerSat','JobSat','ConvertedComp','Gender']\n",
    "\n",
    "df_2019 = pd.read_csv(survey+\"2019.csv.gz\", usecols=col_2019, compression='gzip')"
   ]
  },
  {
   "cell_type": "markdown",
   "metadata": {},
   "source": [
    "Lets check if there are any dissimilarity between country and the refrence we have. then add continent and subregion columns to dataframe."
   ]
  },
  {
   "cell_type": "code",
   "execution_count": 528,
   "metadata": {},
   "outputs": [
    {
     "name": "stdout",
     "output_type": "stream",
     "text": [
      "Other Country (Not Listed Above) \",\""
     ]
    }
   ],
   "source": [
    "# checking which countries have different name from this list and modify them for 2016 results. \n",
    "# It seems in 2015 similarity is ok\n",
    "unique_country =[]\n",
    "for x in df_2019.Country.unique():\n",
    "    unique_country.append(x)\n",
    "\n",
    "for x in unique_country:\n",
    "    if x not in uniques:\n",
    "        print(x,'\",\"',end=\"\")"
   ]
  },
  {
   "cell_type": "code",
   "execution_count": 529,
   "metadata": {},
   "outputs": [
    {
     "data": {
      "text/plain": [
       "array([    nan,   8820.,  61000., ...,  38766.,  13272., 588012.])"
      ]
     },
     "execution_count": 529,
     "metadata": {},
     "output_type": "execute_result"
    }
   ],
   "source": [
    "df_2019.ConvertedComp.unique()"
   ]
  },
  {
   "cell_type": "markdown",
   "metadata": {},
   "source": [
    "#### Country and Continent\n",
    "There is just one case and we replace it we 'Other'"
   ]
  },
  {
   "cell_type": "code",
   "execution_count": 530,
   "metadata": {},
   "outputs": [],
   "source": [
    "df_2019.Country.replace('Other Country (Not Listed Above)', 'Other', inplace=True)"
   ]
  },
  {
   "cell_type": "code",
   "execution_count": 531,
   "metadata": {},
   "outputs": [],
   "source": [
    "# Adding subregion and continent columns\n",
    "subregion=[]\n",
    "continent=[] \n",
    "counter=0\n",
    "\n",
    "check_nan = df_2019['Country'].isnull()\n",
    "\n",
    "for i in range(df_2019.shape[0]):\n",
    "    x = df_2019.iloc[i]['Country']\n",
    "    if ~check_nan[i]:\n",
    "        subregion.append(df_country.loc[df_country['country']==x,'sub_region'].tolist()[0])\n",
    "        continent.append(df_country.loc[df_country['country']==x,'continent'].tolist()[0])\n",
    "            \n",
    "    else:\n",
    "        subregion.append(np.nan)\n",
    "        continent.append(np.nan)\n",
    "        counter+=1\n",
    "\n",
    "        \n",
    "# Adding two lists to dataframe if their length are equal to dataframe size\n",
    "if len(subregion)== df_2019.shape[0]:\n",
    "    df_2019['UN_subregion']=subregion\n",
    "else:\n",
    "    print('error: subregion size mismatch')\n",
    "\n",
    "        \n",
    "if len(subregion)== df_2019.shape[0]:\n",
    "        df_2019['Continent'] = continent\n",
    "else:\n",
    "        print('error: continent size mismatch')\n"
   ]
  },
  {
   "cell_type": "markdown",
   "metadata": {},
   "source": [
    "#### Formal Education\n"
   ]
  },
  {
   "cell_type": "code",
   "execution_count": 520,
   "metadata": {},
   "outputs": [],
   "source": [
    "df_2019['Formal_Education'] = df_2019['EdLevel']\n",
    "\n",
    "col = [\"Primary/elementary school\",\n",
    "       \"Secondary school (e.g. American high school, German Realschule or Gymnasium, etc.)\",\n",
    "       \"Bachelor’s degree (BA, BS, B.Eng., etc.)\",\n",
    "       \"Some college/university study without earning a degree\",\n",
    "       \"Master’s degree (MA, MS, M.Eng., MBA, etc.)\",\n",
    "       \"Other doctoral degree (Ph.D, Ed.D., etc.)\",\n",
    "       \"Associate degree\",\n",
    "       \"Professional degree (JD, MD, etc.)\",\n",
    "       \"I never completed any formal education\"]\n",
    "\n",
    "mod =[\"Primary/elementary school\",\n",
    "      \"Secondary school\",\n",
    "      \"Bachelor's degree\",\n",
    "      \"Some college/university study without earning a bachelor's degree\",\n",
    "      \"Master's degree\",\n",
    "      \"Doctoral degree\",\n",
    "      \"Associate degree\",\n",
    "      \"Professional degree\",\n",
    "      \"I never completed any formal education\"]\n",
    "\n",
    "for i in range(len(col)):\n",
    "    df_2019.Formal_Education.replace(col[i], mod[i], inplace=True)"
   ]
  },
  {
   "cell_type": "markdown",
   "metadata": {},
   "source": [
    "#### Emplyment Status 'Employment' colum\n"
   ]
  },
  {
   "cell_type": "code",
   "execution_count": 521,
   "metadata": {},
   "outputs": [],
   "source": [
    "col = [\"Not employed, and not looking for work\",\n",
    "       \"Not employed, but looking for work\",\"Employed full-time\",\n",
    "       \"Independent contractor, freelancer, or self-employed\",\n",
    "       \"Employed part-time\",\"Retired\"]\n",
    "\n",
    "mod = [\"Unemployed\",\"Unemployed, looking for work\",\"Employed full-time\",\n",
    "       \"Freelance / Contractor\",\n",
    "       \"Employed part-time\",\"Retired\"]\n",
    "\n",
    "for i in range(len(col)):\n",
    "    df_2019.FormalEducation.replace(col[i], mod[i], inplace=True)"
   ]
  },
  {
   "cell_type": "markdown",
   "metadata": {},
   "source": [
    "#### Salary\n",
    "In 2019 survey results there is column as 'ConvertedComp' that asked persons to enter their total salary as dollor. We use that column for creating **'Salary_range'** column."
   ]
  },
  {
   "cell_type": "code",
   "execution_count": 522,
   "metadata": {},
   "outputs": [],
   "source": [
    "# Adding the column\n",
    "df_2019['Salary_range']=np.nan\n",
    "\n",
    "salary=10000\n",
    "step =10000\n",
    "up_bound=200000\n",
    "\n",
    "# using the following dictionary to replace values\n",
    "dic = {40000:\"$40,000 - $50,000\",\n",
    "        200000:\"More than $200,000\",\n",
    "        10000:\"$10,000 - $20,000\",\n",
    "        90000:\"$90,000 - $100,000\",\n",
    "        30000:\"$30,000 - $40,000\",\n",
    "        20000:\"$20,000 - $30,000\",\n",
    "        70000:\"$70,000 - $80,000\",\n",
    "        80000:\"$80,000 - $90,000\",\n",
    "        50000:\"$50,000 - $60,000\",\n",
    "        60000:\"$60,000 - $70,000\",\n",
    "        140000:\"$140,000 - $150,000\",\n",
    "        130000:\"$130,000 - $140,000\",\n",
    "        100000:\"$100,000 - $110,000\",\n",
    "        110000:\"$110,000 - $120,000\",\n",
    "        160000:\"$160,000 - $170,000\",\n",
    "        180000:\"$180,000 - $190,000\",\n",
    "        120000:\"$120,000 - $130,000\",\n",
    "        150000:\"$150,000 - $160,000\",\n",
    "        190000:\"$190,000 - $200,000\",\n",
    "        170000:\"$170,000 - $180,000\"}\n",
    "\n",
    "# for less than $10,000 salary\n",
    "index = df_2019.ConvertedComp[(df_2019['ConvertedComp'] < 10000.0) & (df_2019['ConvertedComp'] != np.nan)].index\n",
    "df_2019.loc[index,'Salary_range']= 'Less than $10,000'\n",
    "\n",
    "# Between $10,000 to $190,000\n",
    "while salary <= up_bound:\n",
    "    index = df_2019.ConvertedComp[(df_2019['ConvertedComp'] >= salary) & (df_2019['ConvertedComp'] < salary+step)].index\n",
    "    df_2019.loc[index,'Salary_range']= dic[salary]\n",
    "    salary+=step"
   ]
  },
  {
   "cell_type": "markdown",
   "metadata": {},
   "source": [
    "#### Rename and droping columns"
   ]
  },
  {
   "cell_type": "code",
   "execution_count": 523,
   "metadata": {},
   "outputs": [
    {
     "data": {
      "text/plain": [
       "Index(['Employment', 'Country', 'EdLevel', 'OrgSize', 'DevType', 'CareerSat',\n",
       "       'JobSat', 'CompTotal', 'CompFreq', 'ConvertedComp', 'Gender',\n",
       "       'Ethnicity', 'UN_subregion', 'Continent', 'FormalEducation',\n",
       "       'Salary_range'],\n",
       "      dtype='object')"
      ]
     },
     "execution_count": 523,
     "metadata": {},
     "output_type": "execute_result"
    }
   ],
   "source": [
    "df_2019.columns"
   ]
  },
  {
   "cell_type": "code",
   "execution_count": 524,
   "metadata": {},
   "outputs": [],
   "source": [
    "df_2019.rename(columns={'Employment':'Employment_Status', 'EdLevel':'Formal_Education',\n",
    "                       'OrgSize':'Company_Size', 'CareerSat':'Career_Satisfaction',\n",
    "                       'JobSat':'Job_Satisfaction'},\n",
    "              inplace=True)"
   ]
  },
  {
   "cell_type": "code",
   "execution_count": 525,
   "metadata": {},
   "outputs": [],
   "source": [
    "df_2019.drop(columns=['DevType','CompTotal', 'CompFreq', 'ConvertedComp','Ethnicity'], inplace=True)"
   ]
  },
  {
   "cell_type": "markdown",
   "metadata": {},
   "source": [
    "#### Saving new dataframe"
   ]
  },
  {
   "cell_type": "code",
   "execution_count": 526,
   "metadata": {},
   "outputs": [],
   "source": [
    "df_2019.to_csv(mod_df+\"2019.csv.gz\", index=False, header=True, compression='gzip')"
   ]
  },
  {
   "cell_type": "markdown",
   "metadata": {},
   "source": [
    "<hr style=\"border:1px solid lightblue\"> </hr>"
   ]
  },
  {
   "cell_type": "markdown",
   "metadata": {},
   "source": [
    "### Results from 2020"
   ]
  },
  {
   "cell_type": "code",
   "execution_count": 588,
   "metadata": {},
   "outputs": [],
   "source": [
    "# Selected columns to read from 2020 dataset\n",
    "col_2020 = ['Age','CompTotal','ConvertedComp','Country',\n",
    "            'EdLevel','Employment','Gender',\n",
    "            'JobSat']\n",
    "\n",
    "df_2020 = pd.read_csv(survey+\"2020.csv.gz\", usecols=col_2020, compression='gzip')"
   ]
  },
  {
   "cell_type": "code",
   "execution_count": 589,
   "metadata": {},
   "outputs": [
    {
     "data": {
      "text/plain": [
       "array([          nan, 1.1600000e+05, 2.5000000e+04, ..., 1.2775000e+07,\n",
       "       2.7170564e+07, 4.3100000e+06])"
      ]
     },
     "execution_count": 589,
     "metadata": {},
     "output_type": "execute_result"
    }
   ],
   "source": [
    "df_2020.CompTotal.unique()"
   ]
  },
  {
   "cell_type": "code",
   "execution_count": 590,
   "metadata": {},
   "outputs": [
    {
     "data": {
      "text/plain": [
       "29705"
      ]
     },
     "execution_count": 590,
     "metadata": {},
     "output_type": "execute_result"
    }
   ],
   "source": [
    "np.sum(df_2020['ConvertedComp'].isnull())"
   ]
  },
  {
   "cell_type": "markdown",
   "metadata": {},
   "source": [
    "#### Country and contint\n",
    "There is one difference between the refrence list of countries and 2020 dataset **'Nomadic'** with 31 instance. We replace it with 'Other' to make it consistent"
   ]
  },
  {
   "cell_type": "code",
   "execution_count": 591,
   "metadata": {},
   "outputs": [
    {
     "name": "stdout",
     "output_type": "stream",
     "text": [
      "Nomadic \",\""
     ]
    }
   ],
   "source": [
    "# checking which countries have different name from this list and modify them for 2016 results. \n",
    "# It seems in 2015 similarity is ok\n",
    "unique_country =[]\n",
    "for x in df_2020.Country.unique():\n",
    "    unique_country.append(x)\n",
    "\n",
    "for x in unique_country:\n",
    "    if x not in uniques:\n",
    "        print(x,'\",\"',end=\"\")"
   ]
  },
  {
   "cell_type": "code",
   "execution_count": 592,
   "metadata": {},
   "outputs": [
    {
     "data": {
      "text/plain": [
       "31"
      ]
     },
     "execution_count": 592,
     "metadata": {},
     "output_type": "execute_result"
    }
   ],
   "source": [
    "#of differences between country continent refrence and 2020 dataset\n",
    "index = df_2020[df_2020.Country == 'Nomadic'].index\n",
    "len(index)"
   ]
  },
  {
   "cell_type": "code",
   "execution_count": 593,
   "metadata": {},
   "outputs": [],
   "source": [
    "df_2020.loc[index, 'Country'] = 'Other'"
   ]
  },
  {
   "cell_type": "code",
   "execution_count": 594,
   "metadata": {},
   "outputs": [],
   "source": [
    "# Adding subregion and continent columns\n",
    "subregion=[]\n",
    "continent=[] \n",
    "counter=0\n",
    "\n",
    "check_nan = df_2020['Country'].isnull()\n",
    "\n",
    "for i in range(df_2020.shape[0]):\n",
    "    x = df_2020.iloc[i]['Country']\n",
    "    if ~check_nan[i]:\n",
    "        subregion.append(df_country.loc[df_country['country']==x,'sub_region'].tolist()[0])\n",
    "        continent.append(df_country.loc[df_country['country']==x,'continent'].tolist()[0])\n",
    "            \n",
    "    else:\n",
    "        subregion.append(np.nan)\n",
    "        continent.append(np.nan)\n",
    "        counter+=1\n",
    "\n",
    "        \n",
    "# Adding two lists to dataframe if their length are equal to dataframe size\n",
    "if len(subregion)== df_2020.shape[0]:\n",
    "    df_2020['UN_subregion']=subregion\n",
    "else:\n",
    "    print('error: subregion size mismatch')\n",
    "\n",
    "        \n",
    "if len(subregion)== df_2020.shape[0]:\n",
    "        df_2020['Continent'] = continent\n",
    "else:\n",
    "        print('error: continent size mismatch')\n"
   ]
  },
  {
   "cell_type": "markdown",
   "metadata": {},
   "source": [
    "#### Emplyment Status 'Employment' colum\n",
    "Checking the employment status values and make them consistent with other dataframes"
   ]
  },
  {
   "cell_type": "code",
   "execution_count": 595,
   "metadata": {},
   "outputs": [
    {
     "data": {
      "text/plain": [
       "array(['Independent contractor, freelancer, or self-employed',\n",
       "       'Employed full-time', nan, 'Student',\n",
       "       'Not employed, but looking for work', 'Employed part-time',\n",
       "       'Retired', 'Not employed, and not looking for work'], dtype=object)"
      ]
     },
     "execution_count": 595,
     "metadata": {},
     "output_type": "execute_result"
    }
   ],
   "source": [
    "df_2020['Employment'].unique()"
   ]
  },
  {
   "cell_type": "code",
   "execution_count": 596,
   "metadata": {},
   "outputs": [],
   "source": [
    "col = [\"Independent contractor, freelancer, or self-employed\",\n",
    "       \"Employed full-time\",\"Student\",\"Not employed, but looking for work\",\n",
    "       \"Employed part-time\",\"Retired\",\"Not employed, and not looking for work\"]\n",
    "\n",
    "mod = [\"Freelance / Contractor\",\"Employed full-time\",\n",
    "       \"Student\",\"Unemployed, looking for work\",\n",
    "       \"Employed part-time\",\"Retired\",\"Unemployed\"]\n",
    "\n",
    "for i in range(len(col)):\n",
    "    df_2020.Employment.replace(col[i], mod[i], inplace=True)"
   ]
  },
  {
   "cell_type": "markdown",
   "metadata": {},
   "source": [
    "#### Formal Education"
   ]
  },
  {
   "cell_type": "code",
   "execution_count": 597,
   "metadata": {},
   "outputs": [
    {
     "data": {
      "text/plain": [
       "array(['Master’s degree (M.A., M.S., M.Eng., MBA, etc.)',\n",
       "       'Bachelor’s degree (B.A., B.S., B.Eng., etc.)', nan,\n",
       "       'Secondary school (e.g. American high school, German Realschule or Gymnasium, etc.)',\n",
       "       'Professional degree (JD, MD, etc.)',\n",
       "       'Some college/university study without earning a degree',\n",
       "       'Associate degree (A.A., A.S., etc.)',\n",
       "       'Other doctoral degree (Ph.D., Ed.D., etc.)',\n",
       "       'Primary/elementary school',\n",
       "       'I never completed any formal education'], dtype=object)"
      ]
     },
     "execution_count": 597,
     "metadata": {},
     "output_type": "execute_result"
    }
   ],
   "source": [
    "df_2020.EdLevel.unique()"
   ]
  },
  {
   "cell_type": "code",
   "execution_count": 598,
   "metadata": {},
   "outputs": [],
   "source": [
    "col =[\"Master’s degree (M.A., M.S., M.Eng., MBA, etc.)\",\n",
    "      \"Bachelor’s degree (B.A., B.S., B.Eng., etc.)\",\n",
    "      \"Secondary school (e.g. American high school, German Realschule or Gymnasium, etc.)\",\n",
    "      \"Professional degree (JD, MD, etc.)\",\n",
    "      \"Some college/university study without earning a degree\",\n",
    "      \"Associate degree (A.A., A.S., etc.)\",\n",
    "      \"Other doctoral degree (Ph.D., Ed.D., etc.)\",\n",
    "      \"Primary/elementary school\",\n",
    "      \"I never completed any formal education\"]\n",
    "\n",
    "mod = [\"Master's degree\",\"Bachelor's degree\",\"Secondary school\",\n",
    "       \"Professional degree\",\"Some college/university study without earning a bachelor's degree\",\n",
    "       \"Associate degree\",\"Doctoral degree\",\n",
    "       \"Primary/elementary school\",\"I never completed any formal education\"]\n",
    "\n",
    "for i in range(len(col)):\n",
    "    df_2020.EdLevel.replace(col[i], mod[i], inplace=True)"
   ]
  },
  {
   "cell_type": "markdown",
   "metadata": {},
   "source": [
    "#### Gender\n",
    "In 2020 serveys answers for person gender are one of the following cases. For make it consistent we modify the column as follow."
   ]
  },
  {
   "cell_type": "code",
   "execution_count": 599,
   "metadata": {},
   "outputs": [
    {
     "data": {
      "text/plain": [
       "array(['Man', nan, 'Woman',\n",
       "       'Man;Non-binary, genderqueer, or gender non-conforming',\n",
       "       'Non-binary, genderqueer, or gender non-conforming',\n",
       "       'Woman;Non-binary, genderqueer, or gender non-conforming',\n",
       "       'Woman;Man;Non-binary, genderqueer, or gender non-conforming',\n",
       "       'Woman;Man'], dtype=object)"
      ]
     },
     "execution_count": 599,
     "metadata": {},
     "output_type": "execute_result"
    }
   ],
   "source": [
    "df_2020.Gender.unique()"
   ]
  },
  {
   "cell_type": "code",
   "execution_count": 600,
   "metadata": {},
   "outputs": [],
   "source": [
    "# Replacing 'Man' with 'Male'\n",
    "df_2020.Gender.replace('Man', 'Male', inplace=True)\n",
    "\n",
    "# Replacing 'Woman' with 'Female'\n",
    "df_2020.Gender.replace('Woman', 'Female', inplace=True)\n",
    "\n",
    "# Replacing other fields with 'genderqueer'\n",
    "index = df_2020[~df_2020['Gender'].isin(['Male', 'Female', np.nan])].index\n",
    "df_2020.loc[index, 'Gender'] = 'genderqueer'\n",
    "\n"
   ]
  },
  {
   "cell_type": "markdown",
   "metadata": {},
   "source": [
    "#### Salary range"
   ]
  },
  {
   "cell_type": "code",
   "execution_count": 601,
   "metadata": {},
   "outputs": [],
   "source": [
    "# Adding the column\n",
    "df_2020['Salary_Range']=np.nan\n",
    "\n",
    "salary=10000\n",
    "step =10000\n",
    "up_bound=200000\n",
    "\n",
    "# using the following dictionary to replace values\n",
    "dic = {40000:\"$40,000 - $50,000\",\n",
    "        200000:\"More than $200,000\",\n",
    "        10000:\"$10,000 - $20,000\",\n",
    "        90000:\"$90,000 - $100,000\",\n",
    "        30000:\"$30,000 - $40,000\",\n",
    "        20000:\"$20,000 - $30,000\",\n",
    "        70000:\"$70,000 - $80,000\",\n",
    "        80000:\"$80,000 - $90,000\",\n",
    "        50000:\"$50,000 - $60,000\",\n",
    "        60000:\"$60,000 - $70,000\",\n",
    "        140000:\"$140,000 - $150,000\",\n",
    "        130000:\"$130,000 - $140,000\",\n",
    "        100000:\"$100,000 - $110,000\",\n",
    "        110000:\"$110,000 - $120,000\",\n",
    "        160000:\"$160,000 - $170,000\",\n",
    "        180000:\"$180,000 - $190,000\",\n",
    "        120000:\"$120,000 - $130,000\",\n",
    "        150000:\"$150,000 - $160,000\",\n",
    "        190000:\"$190,000 - $200,000\",\n",
    "        170000:\"$170,000 - $180,000\"}\n",
    "\n",
    "# for less than $10,000 salary\n",
    "index = df_2020.ConvertedComp[(df_2020['ConvertedComp'] < 10000.0) & (df_2020['ConvertedComp'] != np.nan)].index\n",
    "df_2019.loc[index,'Salary_Range']= 'Less than $10,000'\n",
    "\n",
    "# Between $10,000 to $190,000\n",
    "while salary <= up_bound:\n",
    "    index = df_2020.ConvertedComp[(df_2020['ConvertedComp'] >= salary) & (df_2020['ConvertedComp'] < salary+step)].index\n",
    "    df_2020.loc[index,'Salary_Range']= dic[salary]\n",
    "    salary+=step"
   ]
  },
  {
   "cell_type": "code",
   "execution_count": 602,
   "metadata": {},
   "outputs": [
    {
     "data": {
      "text/plain": [
       "Index(['Age', 'CompTotal', 'ConvertedComp', 'Country', 'EdLevel', 'Employment',\n",
       "       'Gender', 'JobSat', 'UN_subregion', 'Continent', 'Salary_Range'],\n",
       "      dtype='object')"
      ]
     },
     "execution_count": 602,
     "metadata": {},
     "output_type": "execute_result"
    }
   ],
   "source": [
    "df_2020.columns"
   ]
  },
  {
   "cell_type": "markdown",
   "metadata": {},
   "source": [
    "#### Age Range\n",
    "This datasets has ages in number. To be able to caterize them we create new columns as **'Age_Range'** and use df_2018 way to classify items."
   ]
  },
  {
   "cell_type": "code",
   "execution_count": 603,
   "metadata": {},
   "outputs": [
    {
     "data": {
      "text/plain": [
       "array(['25 - 34 years old', '35 - 44 years old', nan, '18 - 24 years old',\n",
       "       '45 - 54 years old', '55 - 64 years old', 'Under 18 years old',\n",
       "       '65 years or older'], dtype=object)"
      ]
     },
     "execution_count": 603,
     "metadata": {},
     "output_type": "execute_result"
    }
   ],
   "source": [
    "df_2018.Age_Range.unique()"
   ]
  },
  {
   "cell_type": "code",
   "execution_count": 604,
   "metadata": {},
   "outputs": [],
   "source": [
    "# Empty nan column added for category\n",
    "df_2020['Age_Range']=np.nan\n",
    "\n",
    "# Under 18 years old\n",
    "index = df_2020[(df_2020['Age'] < 18) & (df_2020['Age'] != np.nan)].index\n",
    "df_2020.loc[index, 'Age_Range'] = 'Under 18 years old'"
   ]
  },
  {
   "cell_type": "code",
   "execution_count": 605,
   "metadata": {},
   "outputs": [],
   "source": [
    "# 65 years or older \n",
    "index = df_2020[(df_2020['Age'] >= 65) & (df_2020['Age'] != np.nan)].index\n",
    "df_2020.loc[index, 'Age_Range'] = '65 years or older'"
   ]
  },
  {
   "cell_type": "code",
   "execution_count": 606,
   "metadata": {},
   "outputs": [],
   "source": [
    "age_dic={(18,24):\"18 - 24 years old\",\n",
    "         (25,34):\"25 - 34 years old\",\n",
    "         (35,44):\"35 - 44 years old\",\n",
    "         (45,54):\"45 - 54 years old\",\n",
    "         (55,64):\"55 - 64 years old\",}\n",
    "\n",
    "for key in age_dic.keys():\n",
    "    low = key[0]\n",
    "    up =key[1]\n",
    "    index = df_2020[(df_2020['Age'] >= low) & (df_2020['Age'] <= up)].index\n",
    "    df_2020.loc[index, 'Age_Range'] = age_dic[key]"
   ]
  },
  {
   "cell_type": "code",
   "execution_count": 610,
   "metadata": {},
   "outputs": [
    {
     "data": {
      "text/plain": [
       "Index(['Country', 'Formal_Education', 'Employment_Status', 'Gender',\n",
       "       'Job_Satisfaction', 'UN_subregion', 'Continent', 'Salary_Range',\n",
       "       'Age_Range'],\n",
       "      dtype='object')"
      ]
     },
     "execution_count": 610,
     "metadata": {},
     "output_type": "execute_result"
    }
   ],
   "source": [
    "df_2020.columns"
   ]
  },
  {
   "cell_type": "markdown",
   "metadata": {},
   "source": [
    "#### Renaming and dropping"
   ]
  },
  {
   "cell_type": "code",
   "execution_count": 609,
   "metadata": {},
   "outputs": [],
   "source": [
    "# Renaming selected columns\n",
    "df_2020.rename(columns={'EdLevel':'Formal_Education',\n",
    "                       'Employment':'Employment_Status',\n",
    "                       'JobSat':'Job_Satisfaction'}, inplace=True)"
   ]
  },
  {
   "cell_type": "code",
   "execution_count": 608,
   "metadata": {},
   "outputs": [],
   "source": [
    "df_2020.drop(columns=['Age', 'CompTotal', 'ConvertedComp'], inplace=True)"
   ]
  },
  {
   "cell_type": "markdown",
   "metadata": {},
   "source": [
    "#### Saving 2020 dataframe"
   ]
  },
  {
   "cell_type": "code",
   "execution_count": null,
   "metadata": {},
   "outputs": [],
   "source": [
    "df_2020.to_csv(mod_df+\"2020.csv.gz\", index=False, header=True, compression='gzip')"
   ]
  },
  {
   "cell_type": "markdown",
   "metadata": {},
   "source": [
    "#### Concat all the dataframes\n",
    "To make it easier to compare the data at once, add column named year to each dataframe and then concatenate them in one dataset."
   ]
  },
  {
   "cell_type": "code",
   "execution_count": 671,
   "metadata": {},
   "outputs": [],
   "source": [
    "df_2015['Year']=2015\n",
    "df_2016['Year']=2016\n",
    "df_2017['Year']=2017\n",
    "df_2018['Year']=2018\n",
    "df_2019['Year']=2019\n",
    "df_2020['Year']=2020\n",
    "\n",
    "df_all = pd.concat([df_2015,df_2016, df_2017, df_2018, df_2019, df_2020])\n"
   ]
  },
  {
   "cell_type": "code",
   "execution_count": 673,
   "metadata": {},
   "outputs": [
    {
     "data": {
      "text/html": [
       "<div>\n",
       "<style scoped>\n",
       "    .dataframe tbody tr th:only-of-type {\n",
       "        vertical-align: middle;\n",
       "    }\n",
       "\n",
       "    .dataframe tbody tr th {\n",
       "        vertical-align: top;\n",
       "    }\n",
       "\n",
       "    .dataframe thead th {\n",
       "        text-align: right;\n",
       "    }\n",
       "</style>\n",
       "<table border=\"1\" class=\"dataframe\">\n",
       "  <thead>\n",
       "    <tr style=\"text-align: right;\">\n",
       "      <th></th>\n",
       "      <th>Country</th>\n",
       "      <th>Age_Range</th>\n",
       "      <th>Gender</th>\n",
       "      <th>Salary_Range</th>\n",
       "      <th>Employment_Status</th>\n",
       "      <th>Job_Satisfaction</th>\n",
       "      <th>Formal_Education</th>\n",
       "      <th>UN_subregion</th>\n",
       "      <th>Continent</th>\n",
       "      <th>Year</th>\n",
       "      <th>...</th>\n",
       "      <th>JobSatisfaction</th>\n",
       "      <th>Salary</th>\n",
       "      <th>ExpectedSalary</th>\n",
       "      <th>Employment</th>\n",
       "      <th>EdLevel</th>\n",
       "      <th>OrgSize</th>\n",
       "      <th>CareerSat</th>\n",
       "      <th>JobSat</th>\n",
       "      <th>ConvertedComp</th>\n",
       "      <th>Salary_range</th>\n",
       "    </tr>\n",
       "  </thead>\n",
       "  <tbody>\n",
       "    <tr>\n",
       "      <th>0</th>\n",
       "      <td>Croatia</td>\n",
       "      <td>25-29</td>\n",
       "      <td>Male</td>\n",
       "      <td>$20,000 - $40,000</td>\n",
       "      <td>Employed full-time</td>\n",
       "      <td>Moderately satisfied</td>\n",
       "      <td>Master degree (MA, MS, M.Eng., MBA, etc.)</td>\n",
       "      <td>Southern Europe</td>\n",
       "      <td>Europe</td>\n",
       "      <td>2015</td>\n",
       "      <td>...</td>\n",
       "      <td>NaN</td>\n",
       "      <td>NaN</td>\n",
       "      <td>NaN</td>\n",
       "      <td>NaN</td>\n",
       "      <td>NaN</td>\n",
       "      <td>NaN</td>\n",
       "      <td>NaN</td>\n",
       "      <td>NaN</td>\n",
       "      <td>NaN</td>\n",
       "      <td>NaN</td>\n",
       "    </tr>\n",
       "    <tr>\n",
       "      <th>1</th>\n",
       "      <td>France</td>\n",
       "      <td>20-24</td>\n",
       "      <td>Male</td>\n",
       "      <td>$20,000 - $40,000</td>\n",
       "      <td>Employed full-time</td>\n",
       "      <td>Neither satisfied nor dissatisfied</td>\n",
       "      <td>Master degree (MA, MS, M.Eng., MBA, etc.)</td>\n",
       "      <td>Western Europe</td>\n",
       "      <td>Europe</td>\n",
       "      <td>2015</td>\n",
       "      <td>...</td>\n",
       "      <td>NaN</td>\n",
       "      <td>NaN</td>\n",
       "      <td>NaN</td>\n",
       "      <td>NaN</td>\n",
       "      <td>NaN</td>\n",
       "      <td>NaN</td>\n",
       "      <td>NaN</td>\n",
       "      <td>NaN</td>\n",
       "      <td>NaN</td>\n",
       "      <td>NaN</td>\n",
       "    </tr>\n",
       "    <tr>\n",
       "      <th>2</th>\n",
       "      <td>India</td>\n",
       "      <td>20-24</td>\n",
       "      <td>Male</td>\n",
       "      <td>$80,000 - $100,000</td>\n",
       "      <td>Freelance / Contractor</td>\n",
       "      <td>Moderately satisfied</td>\n",
       "      <td>NaN</td>\n",
       "      <td>Southern Asia</td>\n",
       "      <td>Asia</td>\n",
       "      <td>2015</td>\n",
       "      <td>...</td>\n",
       "      <td>NaN</td>\n",
       "      <td>NaN</td>\n",
       "      <td>NaN</td>\n",
       "      <td>NaN</td>\n",
       "      <td>NaN</td>\n",
       "      <td>NaN</td>\n",
       "      <td>NaN</td>\n",
       "      <td>NaN</td>\n",
       "      <td>NaN</td>\n",
       "      <td>NaN</td>\n",
       "    </tr>\n",
       "    <tr>\n",
       "      <th>3</th>\n",
       "      <td>Latvia</td>\n",
       "      <td>25-29</td>\n",
       "      <td>Male</td>\n",
       "      <td>NaN</td>\n",
       "      <td>Employed full-time</td>\n",
       "      <td>Moderately satisfied</td>\n",
       "      <td>Bachelor degree (BA, BS, B.Eng., etc.)</td>\n",
       "      <td>Northern Europe</td>\n",
       "      <td>Europe</td>\n",
       "      <td>2015</td>\n",
       "      <td>...</td>\n",
       "      <td>NaN</td>\n",
       "      <td>NaN</td>\n",
       "      <td>NaN</td>\n",
       "      <td>NaN</td>\n",
       "      <td>NaN</td>\n",
       "      <td>NaN</td>\n",
       "      <td>NaN</td>\n",
       "      <td>NaN</td>\n",
       "      <td>NaN</td>\n",
       "      <td>NaN</td>\n",
       "    </tr>\n",
       "    <tr>\n",
       "      <th>4</th>\n",
       "      <td>Norway</td>\n",
       "      <td>30-34</td>\n",
       "      <td>Male</td>\n",
       "      <td>$60,000 - $80,000</td>\n",
       "      <td>Employed full-time</td>\n",
       "      <td>Extremely satisfied</td>\n",
       "      <td>Bachelor degree (BA, BS, B.Eng., etc.)</td>\n",
       "      <td>Northern Europe</td>\n",
       "      <td>Europe</td>\n",
       "      <td>2015</td>\n",
       "      <td>...</td>\n",
       "      <td>NaN</td>\n",
       "      <td>NaN</td>\n",
       "      <td>NaN</td>\n",
       "      <td>NaN</td>\n",
       "      <td>NaN</td>\n",
       "      <td>NaN</td>\n",
       "      <td>NaN</td>\n",
       "      <td>NaN</td>\n",
       "      <td>NaN</td>\n",
       "      <td>NaN</td>\n",
       "    </tr>\n",
       "    <tr>\n",
       "      <th>...</th>\n",
       "      <td>...</td>\n",
       "      <td>...</td>\n",
       "      <td>...</td>\n",
       "      <td>...</td>\n",
       "      <td>...</td>\n",
       "      <td>...</td>\n",
       "      <td>...</td>\n",
       "      <td>...</td>\n",
       "      <td>...</td>\n",
       "      <td>...</td>\n",
       "      <td>...</td>\n",
       "      <td>...</td>\n",
       "      <td>...</td>\n",
       "      <td>...</td>\n",
       "      <td>...</td>\n",
       "      <td>...</td>\n",
       "      <td>...</td>\n",
       "      <td>...</td>\n",
       "      <td>...</td>\n",
       "      <td>...</td>\n",
       "      <td>...</td>\n",
       "    </tr>\n",
       "    <tr>\n",
       "      <th>64456</th>\n",
       "      <td>United States</td>\n",
       "      <td>NaN</td>\n",
       "      <td>NaN</td>\n",
       "      <td>NaN</td>\n",
       "      <td>Employed full-time</td>\n",
       "      <td>NaN</td>\n",
       "      <td>Master's degree</td>\n",
       "      <td>Northern America</td>\n",
       "      <td>Americas</td>\n",
       "      <td>2020</td>\n",
       "      <td>...</td>\n",
       "      <td>NaN</td>\n",
       "      <td>NaN</td>\n",
       "      <td>NaN</td>\n",
       "      <td>NaN</td>\n",
       "      <td>NaN</td>\n",
       "      <td>NaN</td>\n",
       "      <td>NaN</td>\n",
       "      <td>NaN</td>\n",
       "      <td>NaN</td>\n",
       "      <td>NaN</td>\n",
       "    </tr>\n",
       "    <tr>\n",
       "      <th>64457</th>\n",
       "      <td>Morocco</td>\n",
       "      <td>NaN</td>\n",
       "      <td>NaN</td>\n",
       "      <td>NaN</td>\n",
       "      <td>Employed full-time</td>\n",
       "      <td>NaN</td>\n",
       "      <td>NaN</td>\n",
       "      <td>Northern Africa</td>\n",
       "      <td>Africa</td>\n",
       "      <td>2020</td>\n",
       "      <td>...</td>\n",
       "      <td>NaN</td>\n",
       "      <td>NaN</td>\n",
       "      <td>NaN</td>\n",
       "      <td>NaN</td>\n",
       "      <td>NaN</td>\n",
       "      <td>NaN</td>\n",
       "      <td>NaN</td>\n",
       "      <td>NaN</td>\n",
       "      <td>NaN</td>\n",
       "      <td>NaN</td>\n",
       "    </tr>\n",
       "    <tr>\n",
       "      <th>64458</th>\n",
       "      <td>Vietnam</td>\n",
       "      <td>NaN</td>\n",
       "      <td>NaN</td>\n",
       "      <td>NaN</td>\n",
       "      <td>NaN</td>\n",
       "      <td>NaN</td>\n",
       "      <td>Primary/elementary school</td>\n",
       "      <td>South-Eastern Asia</td>\n",
       "      <td>Asia</td>\n",
       "      <td>2020</td>\n",
       "      <td>...</td>\n",
       "      <td>NaN</td>\n",
       "      <td>NaN</td>\n",
       "      <td>NaN</td>\n",
       "      <td>NaN</td>\n",
       "      <td>NaN</td>\n",
       "      <td>NaN</td>\n",
       "      <td>NaN</td>\n",
       "      <td>NaN</td>\n",
       "      <td>NaN</td>\n",
       "      <td>NaN</td>\n",
       "    </tr>\n",
       "    <tr>\n",
       "      <th>64459</th>\n",
       "      <td>Poland</td>\n",
       "      <td>NaN</td>\n",
       "      <td>NaN</td>\n",
       "      <td>NaN</td>\n",
       "      <td>Employed full-time</td>\n",
       "      <td>NaN</td>\n",
       "      <td>NaN</td>\n",
       "      <td>Eastern Europe</td>\n",
       "      <td>Europe</td>\n",
       "      <td>2020</td>\n",
       "      <td>...</td>\n",
       "      <td>NaN</td>\n",
       "      <td>NaN</td>\n",
       "      <td>NaN</td>\n",
       "      <td>NaN</td>\n",
       "      <td>NaN</td>\n",
       "      <td>NaN</td>\n",
       "      <td>NaN</td>\n",
       "      <td>NaN</td>\n",
       "      <td>NaN</td>\n",
       "      <td>NaN</td>\n",
       "    </tr>\n",
       "    <tr>\n",
       "      <th>64460</th>\n",
       "      <td>Spain</td>\n",
       "      <td>NaN</td>\n",
       "      <td>NaN</td>\n",
       "      <td>NaN</td>\n",
       "      <td>Employed full-time</td>\n",
       "      <td>NaN</td>\n",
       "      <td>Doctoral degree</td>\n",
       "      <td>Southern Europe</td>\n",
       "      <td>Europe</td>\n",
       "      <td>2020</td>\n",
       "      <td>...</td>\n",
       "      <td>NaN</td>\n",
       "      <td>NaN</td>\n",
       "      <td>NaN</td>\n",
       "      <td>NaN</td>\n",
       "      <td>NaN</td>\n",
       "      <td>NaN</td>\n",
       "      <td>NaN</td>\n",
       "      <td>NaN</td>\n",
       "      <td>NaN</td>\n",
       "      <td>NaN</td>\n",
       "    </tr>\n",
       "  </tbody>\n",
       "</table>\n",
       "<p>385707 rows × 25 columns</p>\n",
       "</div>"
      ],
      "text/plain": [
       "             Country Age_Range Gender        Salary_Range  \\\n",
       "0            Croatia     25-29   Male   $20,000 - $40,000   \n",
       "1             France     20-24   Male   $20,000 - $40,000   \n",
       "2              India     20-24   Male  $80,000 - $100,000   \n",
       "3             Latvia     25-29   Male                 NaN   \n",
       "4             Norway     30-34   Male   $60,000 - $80,000   \n",
       "...              ...       ...    ...                 ...   \n",
       "64456  United States       NaN    NaN                 NaN   \n",
       "64457        Morocco       NaN    NaN                 NaN   \n",
       "64458        Vietnam       NaN    NaN                 NaN   \n",
       "64459         Poland       NaN    NaN                 NaN   \n",
       "64460          Spain       NaN    NaN                 NaN   \n",
       "\n",
       "            Employment_Status                    Job_Satisfaction  \\\n",
       "0          Employed full-time                Moderately satisfied   \n",
       "1          Employed full-time  Neither satisfied nor dissatisfied   \n",
       "2      Freelance / Contractor                Moderately satisfied   \n",
       "3          Employed full-time                Moderately satisfied   \n",
       "4          Employed full-time                 Extremely satisfied   \n",
       "...                       ...                                 ...   \n",
       "64456      Employed full-time                                 NaN   \n",
       "64457      Employed full-time                                 NaN   \n",
       "64458                     NaN                                 NaN   \n",
       "64459      Employed full-time                                 NaN   \n",
       "64460      Employed full-time                                 NaN   \n",
       "\n",
       "                                Formal_Education        UN_subregion  \\\n",
       "0      Master degree (MA, MS, M.Eng., MBA, etc.)     Southern Europe   \n",
       "1      Master degree (MA, MS, M.Eng., MBA, etc.)      Western Europe   \n",
       "2                                            NaN       Southern Asia   \n",
       "3         Bachelor degree (BA, BS, B.Eng., etc.)     Northern Europe   \n",
       "4         Bachelor degree (BA, BS, B.Eng., etc.)     Northern Europe   \n",
       "...                                          ...                 ...   \n",
       "64456                            Master's degree    Northern America   \n",
       "64457                                        NaN     Northern Africa   \n",
       "64458                  Primary/elementary school  South-Eastern Asia   \n",
       "64459                                        NaN      Eastern Europe   \n",
       "64460                            Doctoral degree     Southern Europe   \n",
       "\n",
       "      Continent  Year  ... JobSatisfaction Salary ExpectedSalary Employment  \\\n",
       "0        Europe  2015  ...             NaN    NaN            NaN        NaN   \n",
       "1        Europe  2015  ...             NaN    NaN            NaN        NaN   \n",
       "2          Asia  2015  ...             NaN    NaN            NaN        NaN   \n",
       "3        Europe  2015  ...             NaN    NaN            NaN        NaN   \n",
       "4        Europe  2015  ...             NaN    NaN            NaN        NaN   \n",
       "...         ...   ...  ...             ...    ...            ...        ...   \n",
       "64456  Americas  2020  ...             NaN    NaN            NaN        NaN   \n",
       "64457    Africa  2020  ...             NaN    NaN            NaN        NaN   \n",
       "64458      Asia  2020  ...             NaN    NaN            NaN        NaN   \n",
       "64459    Europe  2020  ...             NaN    NaN            NaN        NaN   \n",
       "64460    Europe  2020  ...             NaN    NaN            NaN        NaN   \n",
       "\n",
       "       EdLevel  OrgSize  CareerSat  JobSat ConvertedComp Salary_range  \n",
       "0          NaN      NaN        NaN     NaN           NaN          NaN  \n",
       "1          NaN      NaN        NaN     NaN           NaN          NaN  \n",
       "2          NaN      NaN        NaN     NaN           NaN          NaN  \n",
       "3          NaN      NaN        NaN     NaN           NaN          NaN  \n",
       "4          NaN      NaN        NaN     NaN           NaN          NaN  \n",
       "...        ...      ...        ...     ...           ...          ...  \n",
       "64456      NaN      NaN        NaN     NaN           NaN          NaN  \n",
       "64457      NaN      NaN        NaN     NaN           NaN          NaN  \n",
       "64458      NaN      NaN        NaN     NaN           NaN          NaN  \n",
       "64459      NaN      NaN        NaN     NaN           NaN          NaN  \n",
       "64460      NaN      NaN        NaN     NaN           NaN          NaN  \n",
       "\n",
       "[385707 rows x 25 columns]"
      ]
     },
     "execution_count": 673,
     "metadata": {},
     "output_type": "execute_result"
    }
   ],
   "source": [
    "df_all"
   ]
  },
  {
   "cell_type": "markdown",
   "metadata": {},
   "source": [
    "#### Saving concatenated dataframe"
   ]
  },
  {
   "cell_type": "code",
   "execution_count": 674,
   "metadata": {},
   "outputs": [],
   "source": [
    "df_all.to_csv(mod_df+\"all_years.csv.gz\", index=False, header=True, compression='gzip')"
   ]
  },
  {
   "cell_type": "code",
   "execution_count": null,
   "metadata": {},
   "outputs": [],
   "source": []
  }
 ],
 "metadata": {
  "kernelspec": {
   "display_name": "Python 3",
   "language": "python",
   "name": "python3"
  },
  "language_info": {
   "codemirror_mode": {
    "name": "ipython",
    "version": 3
   },
   "file_extension": ".py",
   "mimetype": "text/x-python",
   "name": "python",
   "nbconvert_exporter": "python",
   "pygments_lexer": "ipython3",
   "version": "3.8.5"
  }
 },
 "nbformat": 4,
 "nbformat_minor": 4
}
